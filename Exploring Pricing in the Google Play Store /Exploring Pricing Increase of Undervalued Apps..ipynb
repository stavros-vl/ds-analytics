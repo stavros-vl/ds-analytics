{
 "cells": [
  {
   "cell_type": "markdown",
   "metadata": {},
   "source": [
    "## Introduction\n",
    "\n",
    "In the following analysis we will explore whether specific apps in the [Google Play Store Apps](https://www.kaggle.com/lava18/google-play-store-apps) dataset are good candidates for increased price value. In other words, we will attempt to find if specific apps are **undervalued** based on specific criteria that we will define. \n",
    "\n",
    "Ultimately, the goal is to create a prototype that will allow us to understand if such apps exist and if they do, be more confident that a more in-depth analysis is warranted.\n",
    "\n",
    "### Summary of Results\n",
    "After completing the analysis we conclude that there are definitely apps that are undervalued(roughly 55%) and are good candidates for a price increase. \n",
    "\n",
    "In order to find the optimal price point, we used the average price of an app's affordability, and for the number of times an app is purchased we used the number of installations as a proxy, as we did not have access to purchase data.\n",
    "\n",
    "Given the limitations of the dataset we were not able to estimate accurately the impact. Despite that, the major insight is that around 55% of the apps are undervalued, so the recommedation is that a more in-depth analysis is warranted.\n",
    "\n",
    "As for next steps, recommendations include:\n",
    "* Getting data for number of purchases.\n",
    "* A larger volume of overall data can be helpful as the existing dataset was quite small.\n",
    "* Choose a sample of the existing undervalued apps that we found, increase their price and monitor the response."
   ]
  },
  {
   "cell_type": "code",
   "execution_count": 1,
   "metadata": {},
   "outputs": [
    {
     "name": "stdout",
     "output_type": "stream",
     "text": [
      "(10841, 13)\n"
     ]
    }
   ],
   "source": [
    "import pandas as pd\n",
    "\n",
    "playstore = pd.read_csv(\"googleplaystore.csv\")\n",
    "print(playstore.shape)"
   ]
  },
  {
   "cell_type": "markdown",
   "metadata": {},
   "source": [
    "## Explore and Clean the Dataset"
   ]
  },
  {
   "cell_type": "markdown",
   "metadata": {},
   "source": [
    "### Clean problematic row"
   ]
  },
  {
   "cell_type": "code",
   "execution_count": 2,
   "metadata": {},
   "outputs": [
    {
     "name": "stdout",
     "output_type": "stream",
     "text": [
      "LIFESTYLE\n"
     ]
    }
   ],
   "source": [
    "# Change the value in the specific cell.\n",
    "playstore.iloc[10472, 1] = \"LIFESTYLE\"\n",
    "print(playstore.iloc[10472, 1])"
   ]
  },
  {
   "cell_type": "code",
   "execution_count": 3,
   "metadata": {},
   "outputs": [
    {
     "name": "stdout",
     "output_type": "stream",
     "text": [
      "Lifestyle\n"
     ]
    }
   ],
   "source": [
    "# Change the value in the specific cell.\n",
    "playstore.iloc[10472, 9] = \"Lifestyle\"\n",
    "print(playstore.iloc[10472, 9])"
   ]
  },
  {
   "cell_type": "code",
   "execution_count": 4,
   "metadata": {},
   "outputs": [],
   "source": [
    "# Drop the row.\n",
    "playstore.drop(labels=10472, inplace=True)"
   ]
  },
  {
   "cell_type": "markdown",
   "metadata": {},
   "source": [
    "### Change Data Types"
   ]
  },
  {
   "cell_type": "code",
   "execution_count": 5,
   "metadata": {},
   "outputs": [
    {
     "name": "stdout",
     "output_type": "stream",
     "text": [
      "<class 'pandas.core.frame.DataFrame'>\n",
      "Int64Index: 10840 entries, 0 to 10840\n",
      "Data columns (total 13 columns):\n",
      "App               10840 non-null object\n",
      "Category          10840 non-null object\n",
      "Rating            9366 non-null float64\n",
      "Reviews           10840 non-null object\n",
      "Size              10840 non-null object\n",
      "Installs          10840 non-null object\n",
      "Type              10839 non-null object\n",
      "Price             10840 non-null object\n",
      "Content Rating    10840 non-null object\n",
      "Genres            10840 non-null object\n",
      "Last Updated      10840 non-null object\n",
      "Current Ver       10832 non-null object\n",
      "Android Ver       10838 non-null object\n",
      "dtypes: float64(1), object(12)\n",
      "memory usage: 1.2+ MB\n"
     ]
    }
   ],
   "source": [
    "playstore.info()"
   ]
  },
  {
   "cell_type": "markdown",
   "metadata": {},
   "source": [
    "We notice that there are some columns which should have numeric format but their type is *object*:\n",
    "* *Reviews*: Because of the column that we dropped above, the type is object.\n",
    "* *Size*: The column contains letters like \"M\" and \"k\".\n",
    "* *Price*: Contains values with the \"$\" symbol.\n",
    "\n",
    "In the below cells we will clean these columns."
   ]
  },
  {
   "cell_type": "code",
   "execution_count": 6,
   "metadata": {},
   "outputs": [],
   "source": [
    "# Clean Price column\n",
    "playstore[\"Price\"] = playstore[\"Price\"].str.replace(\"$\", \"\").astype(\"float\")"
   ]
  },
  {
   "cell_type": "markdown",
   "metadata": {},
   "source": [
    "Now we can focus on the paid only apps."
   ]
  },
  {
   "cell_type": "code",
   "execution_count": 8,
   "metadata": {},
   "outputs": [],
   "source": [
    "# Create dataframe with only the paid apps.\n",
    "paid = playstore[playstore[\"Price\"] != 0].copy()\n",
    "# Drop the \"Type\" column.\n",
    "paid.drop(labels=\"Type\", axis=1, inplace=True)"
   ]
  },
  {
   "cell_type": "code",
   "execution_count": 9,
   "metadata": {},
   "outputs": [],
   "source": [
    "# Set the type of \"Reviews\" column to int.\n",
    "paid[\"Reviews\"] = paid[\"Reviews\"].astype(\"int\")"
   ]
  },
  {
   "cell_type": "markdown",
   "metadata": {},
   "source": [
    "Next, define a function to clean the \"Size\" column."
   ]
  },
  {
   "cell_type": "code",
   "execution_count": 10,
   "metadata": {},
   "outputs": [],
   "source": [
    "def clean_size(size):\n",
    "    \"\"\"Convert file size string to float and megabytes\"\"\"\n",
    "    size = size.replace(\"M\",\"\")\n",
    "    if size.endswith(\"k\"):\n",
    "        size = float(size[:-1])/1000\n",
    "    elif size == \"Varies with device\":\n",
    "        size = pd.np.NaN\n",
    "    else:\n",
    "        size = float(size)\n",
    "    return size\n",
    "\n",
    "# Clean the Size column.\n",
    "paid[\"Size\"] = paid[\"Size\"].apply(func=clean_size)"
   ]
  },
  {
   "cell_type": "code",
   "execution_count": 11,
   "metadata": {},
   "outputs": [
    {
     "name": "stdout",
     "output_type": "stream",
     "text": [
      "<class 'pandas.core.frame.DataFrame'>\n",
      "Int64Index: 800 entries, 234 to 10798\n",
      "Data columns (total 12 columns):\n",
      "App               800 non-null object\n",
      "Category          800 non-null object\n",
      "Rating            647 non-null float64\n",
      "Reviews           800 non-null int64\n",
      "Size              724 non-null float64\n",
      "Installs          800 non-null object\n",
      "Price             800 non-null float64\n",
      "Content Rating    800 non-null object\n",
      "Genres            800 non-null object\n",
      "Last Updated      800 non-null object\n",
      "Current Ver       798 non-null object\n",
      "Android Ver       799 non-null object\n",
      "dtypes: float64(3), int64(1), object(8)\n",
      "memory usage: 81.2+ KB\n"
     ]
    }
   ],
   "source": [
    "# See the results.\n",
    "paid.info()"
   ]
  },
  {
   "cell_type": "markdown",
   "metadata": {},
   "source": [
    "### Remove Duplicates"
   ]
  },
  {
   "cell_type": "code",
   "execution_count": 12,
   "metadata": {},
   "outputs": [
    {
     "name": "stdout",
     "output_type": "stream",
     "text": [
      "Number of rows before dropping duplicates: 800\n",
      "Number of rows after dropping duplicates: 765\n"
     ]
    }
   ],
   "source": [
    "print(\n",
    "    \"Number of rows before dropping duplicates: {}\".format(paid.shape[0])\n",
    ")\n",
    "paid.drop_duplicates(inplace=True)\n",
    "print(\n",
    "    \"Number of rows after dropping duplicates: {}\".format(paid.shape[0])\n",
    ")"
   ]
  },
  {
   "cell_type": "code",
   "execution_count": 13,
   "metadata": {},
   "outputs": [
    {
     "name": "stdout",
     "output_type": "stream",
     "text": [
      "9\n"
     ]
    }
   ],
   "source": [
    "# Using the \"App\" column as the criterion for the duplicates\n",
    "print(paid.duplicated(subset=\"App\").sum())"
   ]
  },
  {
   "cell_type": "markdown",
   "metadata": {},
   "source": [
    "The duplicated exist for because of two reasons:\n",
    "* Category differs\n",
    "* Reviews differ"
   ]
  },
  {
   "cell_type": "code",
   "execution_count": 15,
   "metadata": {},
   "outputs": [
    {
     "data": {
      "text/html": [
       "<div>\n",
       "<style scoped>\n",
       "    .dataframe tbody tr th:only-of-type {\n",
       "        vertical-align: middle;\n",
       "    }\n",
       "\n",
       "    .dataframe tbody tr th {\n",
       "        vertical-align: top;\n",
       "    }\n",
       "\n",
       "    .dataframe thead th {\n",
       "        text-align: right;\n",
       "    }\n",
       "</style>\n",
       "<table border=\"1\" class=\"dataframe\">\n",
       "  <thead>\n",
       "    <tr style=\"text-align: right;\">\n",
       "      <th></th>\n",
       "      <th>App</th>\n",
       "      <th>Category</th>\n",
       "      <th>Rating</th>\n",
       "      <th>Reviews</th>\n",
       "      <th>Size</th>\n",
       "      <th>Installs</th>\n",
       "      <th>Price</th>\n",
       "      <th>Content Rating</th>\n",
       "      <th>Genres</th>\n",
       "      <th>Last Updated</th>\n",
       "      <th>Current Ver</th>\n",
       "      <th>Android Ver</th>\n",
       "    </tr>\n",
       "  </thead>\n",
       "  <tbody>\n",
       "    <tr>\n",
       "      <td>2151</td>\n",
       "      <td>Toca Life: City</td>\n",
       "      <td>FAMILY</td>\n",
       "      <td>4.7</td>\n",
       "      <td>31100</td>\n",
       "      <td>24.0</td>\n",
       "      <td>500,000+</td>\n",
       "      <td>3.99</td>\n",
       "      <td>Everyone</td>\n",
       "      <td>Education;Pretend Play</td>\n",
       "      <td>July 6, 2018</td>\n",
       "      <td>1.5-play</td>\n",
       "      <td>4.4 and up</td>\n",
       "    </tr>\n",
       "    <tr>\n",
       "      <td>4301</td>\n",
       "      <td>Fuzzy Numbers: Pre-K Number Foundation</td>\n",
       "      <td>FAMILY</td>\n",
       "      <td>4.7</td>\n",
       "      <td>21</td>\n",
       "      <td>44.0</td>\n",
       "      <td>1,000+</td>\n",
       "      <td>5.99</td>\n",
       "      <td>Everyone</td>\n",
       "      <td>Education;Education</td>\n",
       "      <td>July 21, 2017</td>\n",
       "      <td>1.3</td>\n",
       "      <td>4.1 and up</td>\n",
       "    </tr>\n",
       "  </tbody>\n",
       "</table>\n",
       "</div>"
      ],
      "text/plain": [
       "                                         App Category  Rating  Reviews  Size  \\\n",
       "2151                         Toca Life: City   FAMILY     4.7    31100  24.0   \n",
       "4301  Fuzzy Numbers: Pre-K Number Foundation   FAMILY     4.7       21  44.0   \n",
       "\n",
       "      Installs  Price Content Rating                  Genres   Last Updated  \\\n",
       "2151  500,000+   3.99       Everyone  Education;Pretend Play   July 6, 2018   \n",
       "4301    1,000+   5.99       Everyone     Education;Education  July 21, 2017   \n",
       "\n",
       "     Current Ver Android Ver  \n",
       "2151    1.5-play  4.4 and up  \n",
       "4301         1.3  4.1 and up  "
      ]
     },
     "execution_count": 15,
     "metadata": {},
     "output_type": "execute_result"
    }
   ],
   "source": [
    "# Cleaning problematic apps(Category)\n",
    "app_filter = paid[\"App\"].isin(\n",
    "    [\"Fuzzy Numbers: Pre-K Number Foundation\", \"Toca Life: City\"]\n",
    ")\n",
    "\n",
    "category_filter = paid[\"Category\"] == \"FAMILY\"\n",
    "\n",
    "paid[app_filter & category_filter]"
   ]
  },
  {
   "cell_type": "code",
   "execution_count": 16,
   "metadata": {},
   "outputs": [],
   "source": [
    "# Drop problematic apps(Category)\n",
    "paid.drop([2151, 4301], inplace=True)"
   ]
  },
  {
   "cell_type": "markdown",
   "metadata": {},
   "source": [
    "Next, we clean duplicate rows where the number of reviews is not the highest."
   ]
  },
  {
   "cell_type": "code",
   "execution_count": 17,
   "metadata": {},
   "outputs": [],
   "source": [
    "# Sort paid dataframe by the number of reviews.\n",
    "paid.sort_values(by=\"Reviews\", ascending=False, inplace=True)\n",
    "\n",
    "# Drop duplicates in the Reviews column except for the first instance.\n",
    "paid.drop_duplicates(\"App\", inplace=True)\n",
    "paid.duplicated(\"App\").sum()\n",
    "\n",
    "paid.reset_index(inplace=True, drop=True)"
   ]
  },
  {
   "cell_type": "markdown",
   "metadata": {},
   "source": [
    "### Explore the Price"
   ]
  },
  {
   "cell_type": "code",
   "execution_count": 20,
   "metadata": {},
   "outputs": [
    {
     "data": {
      "text/plain": [
       "array([[<matplotlib.axes._subplots.AxesSubplot object at 0x11bc8c2b0>]],\n",
       "      dtype=object)"
      ]
     },
     "execution_count": 20,
     "metadata": {},
     "output_type": "execute_result"
    },
    {
     "data": {
      "image/png": "[encoded data removed]",
      "text/plain": [
       "<Figure size 864x432 with 1 Axes>"
      ]
     },
     "metadata": {
      "needs_background": "light"
     },
     "output_type": "display_data"
    }
   ],
   "source": [
    "# Plot the distribution\n",
    "%matplotlib inline\n",
    "paid.hist(column=\"Price\", grid=False, figsize=(12,6))"
   ]
  },
  {
   "cell_type": "markdown",
   "metadata": {},
   "source": [
    "The distribution is skewed to the left and there are a few outliers to the right - apps with very high price."
   ]
  },
  {
   "cell_type": "code",
   "execution_count": 21,
   "metadata": {},
   "outputs": [
    {
     "data": {
      "text/html": [
       "<div>\n",
       "<style scoped>\n",
       "    .dataframe tbody tr th:only-of-type {\n",
       "        vertical-align: middle;\n",
       "    }\n",
       "\n",
       "    .dataframe tbody tr th {\n",
       "        vertical-align: top;\n",
       "    }\n",
       "\n",
       "    .dataframe thead th {\n",
       "        text-align: right;\n",
       "    }\n",
       "</style>\n",
       "<table border=\"1\" class=\"dataframe\">\n",
       "  <thead>\n",
       "    <tr style=\"text-align: right;\">\n",
       "      <th></th>\n",
       "      <th>App</th>\n",
       "      <th>Category</th>\n",
       "      <th>Rating</th>\n",
       "      <th>Reviews</th>\n",
       "      <th>Size</th>\n",
       "      <th>Installs</th>\n",
       "      <th>Price</th>\n",
       "      <th>Content Rating</th>\n",
       "      <th>Genres</th>\n",
       "      <th>Last Updated</th>\n",
       "      <th>Current Ver</th>\n",
       "      <th>Android Ver</th>\n",
       "    </tr>\n",
       "  </thead>\n",
       "  <tbody>\n",
       "    <tr>\n",
       "      <td>277</td>\n",
       "      <td>I'm Rich - Trump Edition</td>\n",
       "      <td>LIFESTYLE</td>\n",
       "      <td>3.6</td>\n",
       "      <td>275</td>\n",
       "      <td>7.3</td>\n",
       "      <td>10,000+</td>\n",
       "      <td>400.00</td>\n",
       "      <td>Everyone</td>\n",
       "      <td>Lifestyle</td>\n",
       "      <td>May 3, 2018</td>\n",
       "      <td>1.0.1</td>\n",
       "      <td>4.1 and up</td>\n",
       "    </tr>\n",
       "    <tr>\n",
       "      <td>207</td>\n",
       "      <td>I am Rich Plus</td>\n",
       "      <td>FAMILY</td>\n",
       "      <td>4.0</td>\n",
       "      <td>856</td>\n",
       "      <td>8.7</td>\n",
       "      <td>10,000+</td>\n",
       "      <td>399.99</td>\n",
       "      <td>Everyone</td>\n",
       "      <td>Entertainment</td>\n",
       "      <td>May 19, 2018</td>\n",
       "      <td>3.0</td>\n",
       "      <td>4.4 and up</td>\n",
       "    </tr>\n",
       "    <tr>\n",
       "      <td>355</td>\n",
       "      <td>I am rich (Most expensive app)</td>\n",
       "      <td>FINANCE</td>\n",
       "      <td>4.1</td>\n",
       "      <td>129</td>\n",
       "      <td>2.7</td>\n",
       "      <td>1,000+</td>\n",
       "      <td>399.99</td>\n",
       "      <td>Teen</td>\n",
       "      <td>Finance</td>\n",
       "      <td>December 6, 2017</td>\n",
       "      <td>2</td>\n",
       "      <td>4.0.3 and up</td>\n",
       "    </tr>\n",
       "    <tr>\n",
       "      <td>371</td>\n",
       "      <td>I am Rich!</td>\n",
       "      <td>FINANCE</td>\n",
       "      <td>3.8</td>\n",
       "      <td>93</td>\n",
       "      <td>22.0</td>\n",
       "      <td>1,000+</td>\n",
       "      <td>399.99</td>\n",
       "      <td>Everyone</td>\n",
       "      <td>Finance</td>\n",
       "      <td>December 11, 2017</td>\n",
       "      <td>1.0</td>\n",
       "      <td>4.1 and up</td>\n",
       "    </tr>\n",
       "    <tr>\n",
       "      <td>155</td>\n",
       "      <td>I Am Rich Premium</td>\n",
       "      <td>FINANCE</td>\n",
       "      <td>4.1</td>\n",
       "      <td>1867</td>\n",
       "      <td>4.7</td>\n",
       "      <td>50,000+</td>\n",
       "      <td>399.99</td>\n",
       "      <td>Everyone</td>\n",
       "      <td>Finance</td>\n",
       "      <td>November 12, 2017</td>\n",
       "      <td>1.6</td>\n",
       "      <td>4.0 and up</td>\n",
       "    </tr>\n",
       "  </tbody>\n",
       "</table>\n",
       "</div>"
      ],
      "text/plain": [
       "                                App   Category  Rating  Reviews  Size  \\\n",
       "277        I'm Rich - Trump Edition  LIFESTYLE     3.6      275   7.3   \n",
       "207                  I am Rich Plus     FAMILY     4.0      856   8.7   \n",
       "355  I am rich (Most expensive app)    FINANCE     4.1      129   2.7   \n",
       "371                      I am Rich!    FINANCE     3.8       93  22.0   \n",
       "155               I Am Rich Premium    FINANCE     4.1     1867   4.7   \n",
       "\n",
       "    Installs   Price Content Rating         Genres       Last Updated  \\\n",
       "277  10,000+  400.00       Everyone      Lifestyle        May 3, 2018   \n",
       "207  10,000+  399.99       Everyone  Entertainment       May 19, 2018   \n",
       "355   1,000+  399.99           Teen        Finance   December 6, 2017   \n",
       "371   1,000+  399.99       Everyone        Finance  December 11, 2017   \n",
       "155  50,000+  399.99       Everyone        Finance  November 12, 2017   \n",
       "\n",
       "    Current Ver   Android Ver  \n",
       "277       1.0.1    4.1 and up  \n",
       "207         3.0    4.4 and up  \n",
       "355           2  4.0.3 and up  \n",
       "371         1.0    4.1 and up  \n",
       "155         1.6    4.0 and up  "
      ]
     },
     "execution_count": 21,
     "metadata": {},
     "output_type": "execute_result"
    }
   ],
   "source": [
    "paid.sort_values(by=\"Price\", ascending=False).head(5)"
   ]
  },
  {
   "cell_type": "markdown",
   "metadata": {},
   "source": [
    "We see that these apps are very expensive compared to the others and do not add any value to the analysis, on the contrary they create problems. For that reason we exclude them from further analysis and keep only the apps that have a price below $50."
   ]
  },
  {
   "cell_type": "code",
   "execution_count": 22,
   "metadata": {},
   "outputs": [
    {
     "data": {
      "text/plain": [
       "array([[<matplotlib.axes._subplots.AxesSubplot object at 0x11d154278>]],\n",
       "      dtype=object)"
      ]
     },
     "execution_count": 22,
     "metadata": {},
     "output_type": "execute_result"
    },
    {
     "data": {
      "image/png": "[encoded data removed]",
      "text/plain": [
       "<Figure size 864x432 with 1 Axes>"
      ]
     },
     "metadata": {
      "needs_background": "light"
     },
     "output_type": "display_data"
    }
   ],
   "source": [
    "affordable_apps = paid[paid[\"Price\"]<50].copy()\n",
    "affordable_apps.hist(column=\"Price\", grid=False, figsize=(12,6))"
   ]
  },
  {
   "cell_type": "markdown",
   "metadata": {},
   "source": [
    "Despite excluding those columns we see that the data is still skewed. The majority of the apps cost less than $5. We will explore this further."
   ]
  },
  {
   "cell_type": "code",
   "execution_count": 23,
   "metadata": {},
   "outputs": [
    {
     "data": {
      "image/png": "[encoded data removed]",
      "text/plain": [
       "<Figure size 864x432 with 1 Axes>"
      ]
     },
     "metadata": {
      "needs_background": "light"
     },
     "output_type": "display_data"
    },
    {
     "data": {
      "image/png": "[encoded data removed]",
      "text/plain": [
       "<Figure size 864x432 with 1 Axes>"
      ]
     },
     "metadata": {
      "needs_background": "light"
     },
     "output_type": "display_data"
    }
   ],
   "source": [
    "# Create dataframe of apps that cost less than $5. \n",
    "cheap = affordable_apps[\"Price\"] < 5\n",
    "\n",
    "# Create dataframe of apps that cost $5 or more.\n",
    "reasonable = affordable_apps[\"Price\"] >= 5\n",
    "\n",
    "# Create histogram of apps that cost less than $5.\n",
    "affordable_apps[cheap].hist(column=\"Price\", grid=False, figsize=(12,6))\n",
    "\n",
    "# Create histogram of apps that cost $5 or more.\n",
    "affordable_apps[reasonable].hist(column=\"Price\", grid=False, figsize=(12,6))\n",
    "\n",
    "# Create column in affordable_apps with \"cheap\" and \"reasonable\" as groups.\n",
    "affordable_apps[\"affordability\"] = affordable_apps.apply(\n",
    "    lambda row: \"cheap\" if row[\"Price\"] < 5 else \"reasonable\",\n",
    "    axis=1\n",
    ")"
   ]
  },
  {
   "cell_type": "markdown",
   "metadata": {},
   "source": [
    "We notice that the \"reasonable\" priced apps are still skewed to the left. It's good to keep that in mind during our analysis."
   ]
  },
  {
   "cell_type": "markdown",
   "metadata": {},
   "source": [
    "### Explore the relationship between Price and other columns\n",
    "\n",
    "**Rating**"
   ]
  },
  {
   "cell_type": "code",
   "execution_count": 24,
   "metadata": {},
   "outputs": [
    {
     "data": {
      "text/plain": [
       "<matplotlib.axes._subplots.AxesSubplot at 0x11cc695f8>"
      ]
     },
     "execution_count": 24,
     "metadata": {},
     "output_type": "execute_result"
    },
    {
     "data": {
      "image/png": "[encoded data removed]",
      "text/plain": [
       "<Figure size 432x288 with 1 Axes>"
      ]
     },
     "metadata": {
      "needs_background": "light"
     },
     "output_type": "display_data"
    }
   ],
   "source": [
    "affordable_apps[cheap].plot(kind=\"scatter\", x=\"Price\", y=\"Rating\")"
   ]
  },
  {
   "cell_type": "code",
   "execution_count": 25,
   "metadata": {},
   "outputs": [
    {
     "name": "stdout",
     "output_type": "stream",
     "text": [
      "-0.05593771505463038\n"
     ]
    }
   ],
   "source": [
    "# Correlation between Price and Rating\n",
    "print(affordable_apps[cheap].corr().loc[\"Rating\", \"Price\"])"
   ]
  },
  {
   "cell_type": "markdown",
   "metadata": {},
   "source": [
    "It seems that there is no notable relationship between the two. Based on that we can assume that it is safe to change prices without this being reflected to the ratings.\n",
    "\n",
    "One approach can be to increase the price of the apps that cost less than the average price for the cheaper apps, to match that price."
   ]
  },
  {
   "cell_type": "code",
   "execution_count": 26,
   "metadata": {},
   "outputs": [
    {
     "data": {
      "image/png": "[encoded data removed]",
      "text/plain": [
       "<Figure size 432x288 with 1 Axes>"
      ]
     },
     "metadata": {
      "needs_background": "light"
     },
     "output_type": "display_data"
    }
   ],
   "source": [
    "# Find mean price of cheap apps(column affordability).\n",
    "cheap_mean = affordable_apps.loc[cheap, \"Price\"].mean()\n",
    "\n",
    "# Create column price_criterion based on value of cheap_mean.\n",
    "affordable_apps.loc[cheap, \"price_criterion\"] = affordable_apps[\"Price\"].apply(\n",
    "    lambda price: 1 if price < cheap_mean else 0\n",
    ")\n",
    "\n",
    "# Create scatterplot for reasonable apps.\n",
    "affordable_apps[reasonable].plot(kind=\"scatter\", x=\"Price\", y=\"Rating\")\n",
    "\n",
    "# Find mean price of reasonable apps(column affordability).\n",
    "reasonable_mean = affordable_apps.loc[reasonable, \"Price\"].mean()\n",
    "\n",
    "# Create column price_criterion based on value of cheap_mean.\n",
    "affordable_apps.loc[reasonable,\"price_criterion\"] = affordable_apps[\"Price\"].apply(\n",
    "    lambda price: 1 if price < reasonable_mean else 0\n",
    ")"
   ]
  },
  {
   "cell_type": "markdown",
   "metadata": {},
   "source": [
    "**Category & Genre**\n",
    "\n",
    "* *Genre*:\n",
    "    * Looking at the genre column in the first few rows we notice that a lot of apps belong to more than one genre, separated by the \";\" character."
   ]
  },
  {
   "cell_type": "code",
   "execution_count": 27,
   "metadata": {},
   "outputs": [
    {
     "name": "stdout",
     "output_type": "stream",
     "text": [
      "['Arcade;Action & Adventure' 'Action' 'Strategy' 'Puzzle;Brain Games'\n",
      " 'Card;Action & Adventure' 'Sports' 'Personalization' 'Arcade' 'Puzzle'\n",
      " 'Productivity' 'Weather' 'Tools' 'Sports;Action & Adventure'\n",
      " 'Communication' 'Role Playing' 'Photography' 'Card'\n",
      " 'Simulation;Education' 'Adventure' 'Education;Pretend Play' 'Lifestyle'\n",
      " 'Strategy;Action & Adventure' 'Board' 'Finance' 'Health & Fitness'\n",
      " 'Role Playing;Action & Adventure' 'Music' 'Travel & Local' 'Business'\n",
      " 'Simulation' 'Adventure;Action & Adventure' 'Parenting'\n",
      " 'Adventure;Brain Games' 'Entertainment' 'Maps & Navigation'\n",
      " 'Video Players & Editors' 'Racing' 'Medical' 'Auto & Vehicles'\n",
      " 'Educational;Pretend Play' 'Casual;Pretend Play' 'Education;Creativity'\n",
      " 'Education' 'Board;Brain Games' 'Food & Drink'\n",
      " 'Action;Action & Adventure' 'Simulation;Pretend Play' 'Dating'\n",
      " 'Books & Reference' 'Art & Design' 'Racing;Action & Adventure' 'Casual'\n",
      " 'Education;Education' 'Educational;Education' 'Casual;Education'\n",
      " 'Shopping' 'Books & Reference;Education' 'Education;Action & Adventure'\n",
      " 'Board;Action & Adventure' 'Social' 'Casual;Action & Adventure'\n",
      " 'News & Magazines' 'Music;Music & Video' 'Educational;Creativity'\n",
      " 'Casino' 'Educational' 'Books & Reference;Creativity'\n",
      " 'Board;Pretend Play' 'Libraries & Demo' 'Education;Brain Games'\n",
      " 'Role Playing;Education']\n"
     ]
    }
   ],
   "source": [
    "print(affordable_apps[\"Genres\"].unique())"
   ]
  },
  {
   "cell_type": "markdown",
   "metadata": {},
   "source": [
    "Looking at all the possible values of the column, we see that \";\" is not part of the name of any app. The next step is to create a column that counts the number of genres an app belongs."
   ]
  },
  {
   "cell_type": "code",
   "execution_count": 28,
   "metadata": {},
   "outputs": [],
   "source": [
    "affordable_apps[\"genre_count\"] = affordable_apps[\"Genres\"].str.count(\";\")+1"
   ]
  },
  {
   "cell_type": "markdown",
   "metadata": {},
   "source": [
    "Now we can see how the average price varies across the number of genres."
   ]
  },
  {
   "cell_type": "code",
   "execution_count": 29,
   "metadata": {},
   "outputs": [
    {
     "data": {
      "text/html": [
       "<div>\n",
       "<style scoped>\n",
       "    .dataframe tbody tr th:only-of-type {\n",
       "        vertical-align: middle;\n",
       "    }\n",
       "\n",
       "    .dataframe tbody tr th {\n",
       "        vertical-align: top;\n",
       "    }\n",
       "\n",
       "    .dataframe thead th {\n",
       "        text-align: right;\n",
       "    }\n",
       "</style>\n",
       "<table border=\"1\" class=\"dataframe\">\n",
       "  <thead>\n",
       "    <tr style=\"text-align: right;\">\n",
       "      <th></th>\n",
       "      <th></th>\n",
       "      <th>Price</th>\n",
       "    </tr>\n",
       "    <tr>\n",
       "      <th>affordability</th>\n",
       "      <th>genre_count</th>\n",
       "      <th></th>\n",
       "    </tr>\n",
       "  </thead>\n",
       "  <tbody>\n",
       "    <tr>\n",
       "      <td rowspan=\"2\" valign=\"top\">cheap</td>\n",
       "      <td>1</td>\n",
       "      <td>2.507448</td>\n",
       "    </tr>\n",
       "    <tr>\n",
       "      <td>2</td>\n",
       "      <td>3.155672</td>\n",
       "    </tr>\n",
       "    <tr>\n",
       "      <td rowspan=\"2\" valign=\"top\">reasonable</td>\n",
       "      <td>1</td>\n",
       "      <td>12.574627</td>\n",
       "    </tr>\n",
       "    <tr>\n",
       "      <td>2</td>\n",
       "      <td>6.823333</td>\n",
       "    </tr>\n",
       "  </tbody>\n",
       "</table>\n",
       "</div>"
      ],
      "text/plain": [
       "                               Price\n",
       "affordability genre_count           \n",
       "cheap         1             2.507448\n",
       "              2             3.155672\n",
       "reasonable    1            12.574627\n",
       "              2             6.823333"
      ]
     },
     "execution_count": 29,
     "metadata": {},
     "output_type": "execute_result"
    }
   ],
   "source": [
    "genres_mean = affordable_apps.groupby(\n",
    "    [\"affordability\", \"genre_count\"]\n",
    ").mean()[[\"Price\"]]\n",
    "genres_mean"
   ]
  },
  {
   "cell_type": "markdown",
   "metadata": {},
   "source": [
    "It's interesting to notice that apps that belong to two genres are more expensive among the cheap apps and cheaper among the reasonable apps.\n",
    "\n",
    "For each segment, let's label the apps that cost less than their corresponding segments' mean with 1, and the others with 0:"
   ]
  },
  {
   "cell_type": "code",
   "execution_count": 30,
   "metadata": {},
   "outputs": [],
   "source": [
    "def label_genres(row):\n",
    "    \"\"\"For each segment in `genres_mean`,\n",
    "    labels the apps that cost less than its segment's mean with `1`\n",
    "    and the others with `0`.\"\"\"\n",
    "\n",
    "    aff = row[\"affordability\"]\n",
    "    gc = row[\"genre_count\"]\n",
    "    price = row[\"Price\"]\n",
    "\n",
    "    if price < genres_mean.loc[(aff, gc)][0]:\n",
    "        return 1\n",
    "    else:\n",
    "        return 0\n",
    "\n",
    "affordable_apps[\"genre_criterion\"] = affordable_apps.apply(\n",
    "    label_genres, axis=\"columns\"\n",
    ")"
   ]
  },
  {
   "cell_type": "markdown",
   "metadata": {},
   "source": [
    "Next, we will do the same for the *Category* column as we did with the *Genre* above"
   ]
  },
  {
   "cell_type": "code",
   "execution_count": 31,
   "metadata": {},
   "outputs": [],
   "source": [
    "# Find how the mean price varies across the number of categories(mean price for each segment).\n",
    "categories_mean = affordable_apps.groupby(\n",
    "    [\"affordability\", \"Category\"]\n",
    ").mean()[[\"Price\"]]\n",
    "\n",
    "# Label the apps that cost less than their corresponding segments(category) mean.\n",
    "def label_categories(row):\n",
    "     aff = row[\"affordability\"]\n",
    "     cat = row[\"Category\"]\n",
    "     price = row[\"Price\"]\n",
    "\n",
    "     if price < categories_mean.loc[(aff, cat)][0]:\n",
    "        return 1\n",
    "     else:\n",
    "        return 0\n",
    "    \n",
    "affordable_apps[\"category_criterion\"] = affordable_apps.apply(\n",
    "    label_categories, axis=\"columns\"\n",
    ")"
   ]
  },
  {
   "cell_type": "markdown",
   "metadata": {},
   "source": [
    "## Assessing if a pricing increase is a viable option\n",
    "\n",
    "With the work done above, we now have 3 criteria that we can use to decide if an app's price should increase. In order to use all 3 we can use the **majority voting** technique."
   ]
  },
  {
   "cell_type": "code",
   "execution_count": 32,
   "metadata": {},
   "outputs": [
    {
     "data": {
      "text/html": [
       "<div>\n",
       "<style scoped>\n",
       "    .dataframe tbody tr th:only-of-type {\n",
       "        vertical-align: middle;\n",
       "    }\n",
       "\n",
       "    .dataframe tbody tr th {\n",
       "        vertical-align: top;\n",
       "    }\n",
       "\n",
       "    .dataframe thead th {\n",
       "        text-align: right;\n",
       "    }\n",
       "</style>\n",
       "<table border=\"1\" class=\"dataframe\">\n",
       "  <thead>\n",
       "    <tr style=\"text-align: right;\">\n",
       "      <th></th>\n",
       "      <th>App</th>\n",
       "      <th>Category</th>\n",
       "      <th>Rating</th>\n",
       "      <th>Reviews</th>\n",
       "      <th>Size</th>\n",
       "      <th>Installs</th>\n",
       "      <th>Price</th>\n",
       "      <th>Content Rating</th>\n",
       "      <th>Genres</th>\n",
       "      <th>Last Updated</th>\n",
       "      <th>Current Ver</th>\n",
       "      <th>Android Ver</th>\n",
       "      <th>affordability</th>\n",
       "      <th>price_criterion</th>\n",
       "      <th>genre_count</th>\n",
       "      <th>genre_criterion</th>\n",
       "      <th>category_criterion</th>\n",
       "      <th>Result</th>\n",
       "    </tr>\n",
       "  </thead>\n",
       "  <tbody>\n",
       "    <tr>\n",
       "      <td>492</td>\n",
       "      <td>Dr. Splorchy Presents Space Heroes</td>\n",
       "      <td>GAME</td>\n",
       "      <td>4.6</td>\n",
       "      <td>18</td>\n",
       "      <td>31.0</td>\n",
       "      <td>100+</td>\n",
       "      <td>4.99</td>\n",
       "      <td>Mature 17+</td>\n",
       "      <td>Adventure</td>\n",
       "      <td>July 23, 2018</td>\n",
       "      <td>1.0</td>\n",
       "      <td>7.0 and up</td>\n",
       "      <td>cheap</td>\n",
       "      <td>0.0</td>\n",
       "      <td>1</td>\n",
       "      <td>0</td>\n",
       "      <td>0</td>\n",
       "      <td>0.0</td>\n",
       "    </tr>\n",
       "    <tr>\n",
       "      <td>302</td>\n",
       "      <td>The Secret Daily Teachings</td>\n",
       "      <td>LIFESTYLE</td>\n",
       "      <td>4.3</td>\n",
       "      <td>206</td>\n",
       "      <td>32.0</td>\n",
       "      <td>1,000+</td>\n",
       "      <td>4.99</td>\n",
       "      <td>Everyone</td>\n",
       "      <td>Lifestyle</td>\n",
       "      <td>February 11, 2018</td>\n",
       "      <td>14.0</td>\n",
       "      <td>4.0.3 and up</td>\n",
       "      <td>cheap</td>\n",
       "      <td>0.0</td>\n",
       "      <td>1</td>\n",
       "      <td>0</td>\n",
       "      <td>0</td>\n",
       "      <td>0.0</td>\n",
       "    </tr>\n",
       "    <tr>\n",
       "      <td>540</td>\n",
       "      <td>Bo's School Day</td>\n",
       "      <td>FAMILY</td>\n",
       "      <td>4.7</td>\n",
       "      <td>10</td>\n",
       "      <td>30.0</td>\n",
       "      <td>1,000+</td>\n",
       "      <td>2.99</td>\n",
       "      <td>Everyone</td>\n",
       "      <td>Education;Pretend Play</td>\n",
       "      <td>December 18, 2017</td>\n",
       "      <td>1.3</td>\n",
       "      <td>4.0.3 and up</td>\n",
       "      <td>cheap</td>\n",
       "      <td>0.0</td>\n",
       "      <td>2</td>\n",
       "      <td>1</td>\n",
       "      <td>0</td>\n",
       "      <td>0.0</td>\n",
       "    </tr>\n",
       "    <tr>\n",
       "      <td>500</td>\n",
       "      <td>K.MOJI</td>\n",
       "      <td>FAMILY</td>\n",
       "      <td>4.8</td>\n",
       "      <td>16</td>\n",
       "      <td>8.9</td>\n",
       "      <td>500+</td>\n",
       "      <td>1.99</td>\n",
       "      <td>Everyone</td>\n",
       "      <td>Entertainment</td>\n",
       "      <td>May 9, 2017</td>\n",
       "      <td>1.0</td>\n",
       "      <td>4.2 and up</td>\n",
       "      <td>cheap</td>\n",
       "      <td>1.0</td>\n",
       "      <td>1</td>\n",
       "      <td>1</td>\n",
       "      <td>1</td>\n",
       "      <td>1.0</td>\n",
       "    </tr>\n",
       "    <tr>\n",
       "      <td>396</td>\n",
       "      <td>10,000 Quotes DB (Premium)</td>\n",
       "      <td>BOOKS_AND_REFERENCE</td>\n",
       "      <td>4.1</td>\n",
       "      <td>70</td>\n",
       "      <td>3.5</td>\n",
       "      <td>500+</td>\n",
       "      <td>0.99</td>\n",
       "      <td>Everyone</td>\n",
       "      <td>Books &amp; Reference</td>\n",
       "      <td>August 30, 2013</td>\n",
       "      <td>1.3</td>\n",
       "      <td>2.1 and up</td>\n",
       "      <td>cheap</td>\n",
       "      <td>1.0</td>\n",
       "      <td>1</td>\n",
       "      <td>1</td>\n",
       "      <td>1</td>\n",
       "      <td>1.0</td>\n",
       "    </tr>\n",
       "  </tbody>\n",
       "</table>\n",
       "</div>"
      ],
      "text/plain": [
       "                                    App             Category  Rating  Reviews  \\\n",
       "492  Dr. Splorchy Presents Space Heroes                 GAME     4.6       18   \n",
       "302          The Secret Daily Teachings            LIFESTYLE     4.3      206   \n",
       "540                     Bo's School Day               FAMILY     4.7       10   \n",
       "500                              K.MOJI               FAMILY     4.8       16   \n",
       "396          10,000 Quotes DB (Premium)  BOOKS_AND_REFERENCE     4.1       70   \n",
       "\n",
       "     Size Installs  Price Content Rating                  Genres  \\\n",
       "492  31.0     100+   4.99     Mature 17+               Adventure   \n",
       "302  32.0   1,000+   4.99       Everyone               Lifestyle   \n",
       "540  30.0   1,000+   2.99       Everyone  Education;Pretend Play   \n",
       "500   8.9     500+   1.99       Everyone           Entertainment   \n",
       "396   3.5     500+   0.99       Everyone       Books & Reference   \n",
       "\n",
       "          Last Updated Current Ver   Android Ver affordability  \\\n",
       "492      July 23, 2018         1.0    7.0 and up         cheap   \n",
       "302  February 11, 2018        14.0  4.0.3 and up         cheap   \n",
       "540  December 18, 2017         1.3  4.0.3 and up         cheap   \n",
       "500        May 9, 2017         1.0    4.2 and up         cheap   \n",
       "396    August 30, 2013         1.3    2.1 and up         cheap   \n",
       "\n",
       "     price_criterion  genre_count  genre_criterion  category_criterion  Result  \n",
       "492              0.0            1                0                   0     0.0  \n",
       "302              0.0            1                0                   0     0.0  \n",
       "540              0.0            2                1                   0     0.0  \n",
       "500              1.0            1                1                   1     1.0  \n",
       "396              1.0            1                1                   1     1.0  "
      ]
     },
     "execution_count": 32,
     "metadata": {},
     "output_type": "execute_result"
    }
   ],
   "source": [
    "criteria = [\"price_criterion\", \"genre_criterion\", \"category_criterion\"]\n",
    "affordable_apps[\"Result\"] = affordable_apps[criteria].mode(axis='columns')\n",
    "\n",
    "affordable_apps.sample(5)"
   ]
  },
  {
   "cell_type": "code",
   "execution_count": 33,
   "metadata": {},
   "outputs": [
    {
     "name": "stdout",
     "output_type": "stream",
     "text": [
      "401.0\n",
      "0.5470668485675307\n"
     ]
    }
   ],
   "source": [
    "# See how many apps would be candidates for price increase.\n",
    "nr_eligible = affordable_apps[\"Result\"].sum()\n",
    "print(nr_eligible, nr_eligible/affordable_apps.shape[0], sep=\"\\n\")"
   ]
  },
  {
   "cell_type": "code",
   "execution_count": 34,
   "metadata": {},
   "outputs": [
    {
     "name": "stdout",
     "output_type": "stream",
     "text": [
      "115441618.98\n"
     ]
    }
   ],
   "source": [
    "# We already computed cheap_mean and reasonable_mean.\n",
    "# Create new column in affordable_apps that is the maximum between Price and cheap_mean for the cheap apps, and the maximum between Price and reasonable_mean for the reasonable apps.\n",
    "def new_price(row):\n",
    "    if row[\"affordability\"] == \"cheap\":\n",
    "        return round(max(row[\"Price\"], cheap_mean), 2)\n",
    "    else:\n",
    "        return round(max(row[\"Price\"], reasonable_mean), 2)\n",
    "    \n",
    "affordable_apps[\"New Price\"] = affordable_apps.apply(new_price, axis=\"columns\")\n",
    "\n",
    "# Clean and transform Installs into a numeric column.\n",
    "affordable_apps[\"Installs\"] = affordable_apps[\"Installs\"].str.replace(\"[+,]\", \"\").astype(int)\n",
    "\n",
    "# Calculate the impact of each app and create new column \"Impact\".\n",
    "affordable_apps[\"Impact\"] = (affordable_apps[\"New Price\"]-affordable_apps[\"Price\"])*affordable_apps[\"Installs\"]\n",
    "\n",
    "# Calculate and print total_impact.\n",
    "total_impact = affordable_apps[\"Impact\"].sum()\n",
    "print(total_impact) "
   ]
  },
  {
   "cell_type": "markdown",
   "metadata": {},
   "source": [
    "## Conclusion\n",
    "\n",
    "It seems that the estimated impact is too big to be realistic, so there is a high probability that our data was lacking or we have to take another approach sing other columns/variables, to try and get a more realistic estimate."
   ]
  }
 ],
 "metadata": {
  "kernelspec": {
   "display_name": "Python 3",
   "language": "python",
   "name": "python3"
  },
  "language_info": {
   "codemirror_mode": {
    "name": "ipython",
    "version": 3
   },
   "file_extension": ".py",
   "mimetype": "text/x-python",
   "name": "python",
   "nbconvert_exporter": "python",
   "pygments_lexer": "ipython3",
   "version": "3.7.3"
  }
 },
 "nbformat": 4,
 "nbformat_minor": 2
}
