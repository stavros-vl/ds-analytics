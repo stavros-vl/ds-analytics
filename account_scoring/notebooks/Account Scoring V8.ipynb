{
 "cells": [
  {
   "cell_type": "code",
   "execution_count": 4,
   "metadata": {},
   "outputs": [],
   "source": [
    "import sys\n",
    "sys.path.append('/Users/stavrosvlachos/Desktop/Workspace/business-intelligence/')\n",
    "\n",
    "from datamanagement.services import redshift\n",
    "import psycopg2\n",
    "import pandas as pd\n",
    "import matplotlib.pyplot as plt\n",
    "\n",
    "%matplotlib inline"
   ]
  },
  {
   "cell_type": "code",
   "execution_count": 5,
   "metadata": {},
   "outputs": [],
   "source": [
    "con = psycopg2.connect(\"dbname=dev host=redshift-prod.csyrzb3icveb.us-east-1.redshift.amazonaws.com port=5439 user=stavros password=F7mXrih76wCM\")\n",
    "cursor = con.cursor()"
   ]
  },
  {
   "cell_type": "markdown",
   "metadata": {},
   "source": [
    "## Dataset"
   ]
  },
  {
   "cell_type": "code",
   "execution_count": 6,
   "metadata": {},
   "outputs": [],
   "source": [
    "sql='''\n",
    "with account_features as (\n",
    "\n",
    "    select \n",
    "    id,\n",
    "    date_trunc('day', mql_datestamp__c) as mql_date,\n",
    "    region2__c as region,\n",
    "    billing_country_iso__c as billing_country,\n",
    "    case when lower(account_billing_city__c) ilike '%london%'\n",
    "            or lower(account_billing_city__c) ilike '%new york%'\n",
    "            or lower(account_billing_city__c) ilike '%san francisco%'\n",
    "            or lower(account_billing_city__c) ilike '%chicago%'\n",
    "            or lower(account_billing_city__c) ilike '%boston%'\n",
    "            or lower(account_billing_city__c) ilike '%houston%'\n",
    "            or lower(account_billing_city__c) ilike '%atlanta%'\n",
    "            or lower(account_billing_city__c) ilike '%los angeles%'\n",
    "            or lower(account_billing_city__c) ilike '%manchester%'\n",
    "            or lower(account_billing_city__c) ilike '%paris%'\n",
    "            or lower(account_billing_city__c) ilike '%birmingham%'\n",
    "            or lower(account_billing_city__c) ilike '%dallas%'\n",
    "            or lower(account_billing_city__c) ilike '%cambridge%'\n",
    "            or lower(account_billing_city__c) ilike '%philadelphia%'\n",
    "            or lower(account_billing_city__c) ilike '%austin%'\n",
    "            or lower(account_billing_city__c) ilike '%washington%'\n",
    "            or lower(account_billing_city__c) ilike '%denver%'\n",
    "            or lower(account_billing_city__c) ilike '%dublin%'\n",
    "            or lower(account_billing_city__c) ilike '%berlin%'\n",
    "            or lower(account_billing_city__c) ilike '%miami%'\n",
    "            or lower(account_billing_city__c) ilike '%seattle%'\n",
    "            or lower(account_billing_city__c) ilike '%stockholm%'\n",
    "            or lower(account_billing_city__c) ilike '%san diego%'\n",
    "            or lower(account_billing_city__c) ilike '%portland%'\n",
    "            or lower(account_billing_city__c) ilike '%sydney%'\n",
    "            or lower(account_billing_city__c) ilike '%amsterdam%'\n",
    "            or lower(account_billing_city__c) ilike '%palo alto%'\n",
    "            or lower(account_billing_city__c) ilike '%singapore%'\n",
    "            or lower(account_billing_city__c) ilike '%barcelona%'\n",
    "            then 'major_city'\n",
    "            else 'Other' end as city,\n",
    "    numberofemployees,\n",
    "    gtm_segment__c,\n",
    "    abm_group__c,\n",
    "    industry,\n",
    "    sub_industry__c,\n",
    "    persona__c,\n",
    "    case when currently_using__c ilike '%none%'\n",
    "        or currently_using__c ilike '%nothing%'\n",
    "        or currently_using__c ilike '%manual%'\n",
    "        or currently_using__c ilike '%pdf%'\n",
    "        or currently_using__c ilike '%pdfs%'\n",
    "        or currently_using__c ilike '%sheets%'\n",
    "        or currently_using__c ilike '%spreadsheets%'\n",
    "        or currently_using__c ilike '%email%'\n",
    "        or currently_using__c ilike '%in-house%'\n",
    "        or currently_using__c ilike '%inhouse%'\n",
    "        or currently_using__c ilike '%in house%' then 'None'\n",
    "    when  currently_using__c ilike '%bamboo%'\n",
    "        or currently_using__c ilike '%breezy%'\n",
    "        or currently_using__c ilike '%jazz%'\n",
    "        or currently_using__c ilike '%homerun%'\n",
    "        or currently_using__c ilike '%home run%'\n",
    "        or currently_using__c ilike '%recruitee%'\n",
    "        or currently_using__c ilike '%recruiter box%'\n",
    "        or currently_using__c ilike '%recruiter-box%'\n",
    "        or currently_using__c ilike '%recruiterbox%'\n",
    "        or currently_using__c ilike '%paylocity%'\n",
    "        or currently_using__c ilike '%personio%'\n",
    "        or currently_using__c ilike '%peoplehr%'\n",
    "        or currently_using__c ilike '%people-hr%'\n",
    "        or currently_using__c ilike '%people hr%'\n",
    "        or currently_using__c ilike '%teamtailor%'\n",
    "        or currently_using__c ilike '%team tailor%'\n",
    "        or currently_using__c ilike '%google hire%'\n",
    "        or currently_using__c ilike '%googlehire%'\n",
    "        or currently_using__c ilike '%g-hire%'\n",
    "        or currently_using__c ilike '%ghire%'\n",
    "        or currently_using__c ilike '%g hire%'\n",
    "        or currently_using__c ilike '%welcome to the jungle%'\n",
    "        or currently_using__c ilike '%welcometothejungle%'\n",
    "        or currently_using__c ilike '%wttj%'\n",
    "        or currently_using__c ilike '%adp%'\n",
    "        or currently_using__c ilike '%ziprecruiter%'\n",
    "        or currently_using__c ilike '%jobscore%' then 'Small Competitors'\n",
    "    when currently_using__c ilike '%greenhouse%'\n",
    "        or currently_using__c ilike '%green-house%'\n",
    "        or currently_using__c ilike '%ghouse%'\n",
    "        or currently_using__c ilike '%gh%'\n",
    "        or currently_using__c ilike '%lever%'\n",
    "        or currently_using__c ilike '%icims%'\n",
    "        or currently_using__c ilike '%i-cims%'\n",
    "        or currently_using__c ilike '%i cims%'\n",
    "        or currently_using__c ilike '%smartrecruiter%'\n",
    "        or currently_using__c ilike '%smart recruiter%'\n",
    "        or currently_using__c ilike '%workday%'\n",
    "        or currently_using__c ilike '%ultipro%'\n",
    "        or currently_using__c ilike '%taleo%'\n",
    "        or currently_using__c ilike '%softgarden%'\n",
    "        or currently_using__c ilike '%success%'\n",
    "        or currently_using__c ilike '%job vite%'\n",
    "        or currently_using__c ilike '%jobvite%'\n",
    "        or currently_using__c ilike '%cornerstone%'\n",
    "        or currently_using__c ilike '%comeet%' then 'Strong Competitors'\n",
    "    when currently_using__c ilike '%n/a%' then 'N/A'\n",
    "        else 'Other' end as currently_using_group,\n",
    "    case when sub_industry__c in \n",
    "    ('Casinos & Gaming', 'Consumer Services', 'Hotels, Restaurants & Leisure', 'Legal Services', 'Leisure Facilities', 'Restaurants', 'Specialized Consumer Services', 'Accounting', 'Banking & Mortgages', 'Finance', 'Financial Services', 'Health & Wellness', 'Health Care', 'Health Care Services', 'Life Sciences Tools & Services', 'Commercial Printing', 'Consulting', 'Corporate & Business', 'Design', 'Professional Services', 'Research & Consulting Services', 'Data Processing & Outsourced Services') then 'Tier 1'\n",
    "    when sub_industry__c in ('Advertising', 'Broadcasting', 'Education', 'Education Services', 'Family Services', 'Media', 'Movies & Entertainment', 'Public Relations', 'Publishing', 'Oil & Gas', 'Architecture', 'Automation', 'Cloud Services', 'Graphic Design', 'Internet', 'Internet Software & Services', 'Building Materials', 'Integrated Telecommunication Services', 'Wireless Telecommunication Services') then 'Tier 2' else 'Other' end as ICP_tier,\n",
    "     case when researcher_notes__c ilike '%fund%' \n",
    "        or researcher_notes__c ilike '%seed%' \n",
    "        or researcher_notes__c ilike '%raised%' then 1 else 0 end as received_funding,\n",
    "    case when researcher_notes__c ilike '%series a%' then 1 else 0 end as received_series_a,\n",
    "    case when researcher_notes__c ilike '%series b%' then 1 else 0 end as received_series_b,\n",
    "    case when researcher_notes__c ilike '%series c%' then 1 else 0 end as received_series_c,\n",
    "    case when researcher_notes__c ilike '%locations%' then 1 else 0 end as hiring_multiple_locations,\n",
    "    case when researcher_notes__c ilike '%headcount growth%' \n",
    "        or researcher_notes__c ilike '%employment growth%'\n",
    "        or researcher_notes__c ilike '%grew%'\n",
    "        or researcher_notes__c ilike '%grown%'\n",
    "        or researcher_notes__c ilike '%new hires%'\n",
    "        or researcher_notes__c ilike '%new employees%' then 1 else 0 end as growth_turnover,\n",
    "    case when researcher_notes__c ilike '%hiring for%' then 1 else 0 end as hiring,\n",
    "    case when (researcher_notes__c ilike '%promoted%'\n",
    "        or researcher_notes__c ilike '%joined%'\n",
    "        or researcher_notes__c ilike '%just hired%'\n",
    "        or researcher_notes__c ilike '%just got%'\n",
    "        or researcher_notes__c ilike '%got a new%')\n",
    "        and researcher_notes__c not ilike '%promoted jobs%' then 1 else 0 end as new_manager,\n",
    "    annualrevenue\n",
    "    from salesforce_accounts\n",
    "    where mql_datestamp__c >= '2019-01-01' and outbound_account__c = 'True' and sdr_role__c ilike '%outbound%' and (mql_datestamp__c <= sal_datestamp__c or sal_datestamp__c is null)\n",
    "                   \n",
    "),\n",
    "contact_features as (\n",
    "                 \n",
    "    select sa.id,\n",
    "    max(case when email ilike '%gmail%' or email ilike '%hotmail%' or email ilike '%yahoo%' or email ilike '%outlook%' then 1 else 0 end) as has_at_least_one_non_company_email,\n",
    "    max(case when \n",
    "    (title ilike '% ceo %' or title ilike '% cto %' or title ilike '% cmo %' or title ilike '% cio %' or title ilike '% cfo %' or title ilike '% cco %' or title ilike '% coo %' or title ilike '% cro %' or title ilike '% cdo %' or title ilike '% svp %' or title ilike '% chief %' or title ilike '% president %' or title ilike '% vp %') \n",
    "    and \n",
    "    ((sc.createddate <= sa.mql_datestamp__c) or (datediff('hours', sc.createddate, sa.mql_datestamp__c) < 5))\n",
    "     then 1 else 0 end) as has_atl_contact,\n",
    "    count(distinct case when \n",
    "    (title ilike '% ceo %' or title ilike '% cto %' or title ilike '% cmo %' or title ilike '% cio %' or title ilike '% cfo %' or title ilike '% cco %' or title ilike '% coo %' or title ilike '% cro %' or title ilike '% cdo %' or title ilike '% svp %' or title ilike '% chief %' or title ilike '% president %') \n",
    "    and \n",
    "    ((sc.createddate <= sa.mql_datestamp__c) or datediff('hours', sc.createddate, sa.mql_datestamp__c) < 5)\n",
    "     then sc.id end) as num_of_atl_contacts,\n",
    "    count(distinct case when sc.createddate <= sa.mql_datestamp__c or (datediff('hours', sc.createddate, sa.mql_datestamp__c) < 5) then sc.id end) as num_contacts,\n",
    "    max(case when \n",
    "    (title ilike '%director%' or title ilike '%manager%' or title ilike '%recruit%' or title ilike '%talent%' or title ilike '%HR generalist%' or title ilike '%People%') \n",
    "    and \n",
    "    ((sc.createddate <= sa.mql_datestamp__c) or datediff('hours', sc.createddate, sa.mql_datestamp__c) < 5)\n",
    "     then 1 else 0 end) as has_btl_contact,\n",
    "    count(distinct case when \n",
    "    (title ilike '% vp %' or title ilike '%director%' or title ilike '%manager%' or title ilike '%recruit%' or title ilike '%talent%' or title ilike '%HR generalist%' or title ilike '%People%') \n",
    "    and \n",
    "    ((sc.createddate <= sa.mql_datestamp__c) or datediff('hours', sc.createddate, sa.mql_datestamp__c) < 5)\n",
    "     then sc.id end) as num_of_btl_contacts\n",
    "\n",
    "    from salesforce_accounts sa\n",
    "    left join salesforce_contacts sc on sa.id = sc.accountid\n",
    "    where sa.mql_datestamp__c >= '2019-01-01' and sa.outbound_account__c = 'True' and sa.sdr_role__c ilike '%outbound%' and (sc.createddate <= sa.sal_datestamp__c or sa.sal_datestamp__c is null)\n",
    "group by 1\n",
    "--) select * from data where has_executive_contact = 1 and num_contacts = 0 \n",
    "                   \n",
    "),\n",
    "target as (\n",
    "                   \n",
    "    select sa.id,\n",
    "    max(case when sop.createddate is not null and (sop.type = 'New Business' or sop.type = 'Convert to Annual')  and sop.stagename != 'Closed Won' then 1 else 0 end) as sql\n",
    "    from salesforce_accounts sa\n",
    "    left join salesforce_opportunities sop on sa.id = sop.accountid\n",
    "    where sa.mql_datestamp__c >= '2019-01-01' and sa.outbound_account__c = 'True' and sa.sdr_role__c ilike '%outbound%' and (sop.createddate >= sa.mql_datestamp__c or sop.createddate is null)\n",
    "    group by 1\n",
    "                   \n",
    ")\n",
    "                   \n",
    "select af.id,\n",
    "    af.mql_date,\n",
    "    af.region,\n",
    "    af.billing_country,\n",
    "    af.city,\n",
    "    af.numberofemployees,\n",
    "    af.gtm_segment__c,\n",
    "    af.abm_group__c,\n",
    "    af.industry,\n",
    "    af.sub_industry__c,\n",
    "    af.ICP_tier,\n",
    "    af.persona__c,\n",
    "    af.currently_using_group,\n",
    "    af.received_funding,\n",
    "    af.received_series_a,\n",
    "    af.received_series_b,\n",
    "    af.received_series_c,\n",
    "    af.hiring_multiple_locations,\n",
    "    af.growth_turnover,\n",
    "    af.hiring,\n",
    "    af.new_manager,\n",
    "    af.annualrevenue,\n",
    "    cf.has_at_least_one_non_company_email,\n",
    "    cf.has_atl_contact,\n",
    "    cf.num_of_atl_contacts,\n",
    "    cf.has_btl_contact,\n",
    "    cf.num_of_btl_contacts,\n",
    "    cf.num_contacts,\n",
    "    tr.sql\n",
    "from account_features af \n",
    "inner join contact_features cf on af.id = cf.id\n",
    "inner join target tr on af.id = tr.id\n",
    "'''"
   ]
  },
  {
   "cell_type": "code",
   "execution_count": 7,
   "metadata": {},
   "outputs": [
    {
     "data": {
      "text/html": [
       "<div>\n",
       "<style scoped>\n",
       "    .dataframe tbody tr th:only-of-type {\n",
       "        vertical-align: middle;\n",
       "    }\n",
       "\n",
       "    .dataframe tbody tr th {\n",
       "        vertical-align: top;\n",
       "    }\n",
       "\n",
       "    .dataframe thead th {\n",
       "        text-align: right;\n",
       "    }\n",
       "</style>\n",
       "<table border=\"1\" class=\"dataframe\">\n",
       "  <thead>\n",
       "    <tr style=\"text-align: right;\">\n",
       "      <th></th>\n",
       "      <th>id</th>\n",
       "      <th>mql_date</th>\n",
       "      <th>region</th>\n",
       "      <th>billing_country</th>\n",
       "      <th>city</th>\n",
       "      <th>numberofemployees</th>\n",
       "      <th>gtm_segment__c</th>\n",
       "      <th>abm_group__c</th>\n",
       "      <th>industry</th>\n",
       "      <th>sub_industry__c</th>\n",
       "      <th>...</th>\n",
       "      <th>hiring</th>\n",
       "      <th>new_manager</th>\n",
       "      <th>annualrevenue</th>\n",
       "      <th>has_at_least_one_non_company_email</th>\n",
       "      <th>has_atl_contact</th>\n",
       "      <th>num_of_atl_contacts</th>\n",
       "      <th>has_btl_contact</th>\n",
       "      <th>num_of_btl_contacts</th>\n",
       "      <th>num_contacts</th>\n",
       "      <th>sql</th>\n",
       "    </tr>\n",
       "  </thead>\n",
       "  <tbody>\n",
       "    <tr>\n",
       "      <td>0</td>\n",
       "      <td>0016100000WjoJdAAJ</td>\n",
       "      <td>2019-10-11</td>\n",
       "      <td>Northern America</td>\n",
       "      <td>US</td>\n",
       "      <td>Other</td>\n",
       "      <td>150.0</td>\n",
       "      <td>Midsized Companies</td>\n",
       "      <td>Inbound</td>\n",
       "      <td>Diversified Consumer Services</td>\n",
       "      <td>Specialized Consumer Services</td>\n",
       "      <td>...</td>\n",
       "      <td>0</td>\n",
       "      <td>0</td>\n",
       "      <td>10000000.00</td>\n",
       "      <td>1</td>\n",
       "      <td>0</td>\n",
       "      <td>0</td>\n",
       "      <td>1</td>\n",
       "      <td>15</td>\n",
       "      <td>59</td>\n",
       "      <td>0</td>\n",
       "    </tr>\n",
       "    <tr>\n",
       "      <td>1</td>\n",
       "      <td>0016100000WjoZAAAZ</td>\n",
       "      <td>2019-08-21</td>\n",
       "      <td>Northern America</td>\n",
       "      <td>US</td>\n",
       "      <td>Other</td>\n",
       "      <td>57.0</td>\n",
       "      <td>Midsized Companies</td>\n",
       "      <td>Inbound</td>\n",
       "      <td>Media</td>\n",
       "      <td>Publishing</td>\n",
       "      <td>...</td>\n",
       "      <td>0</td>\n",
       "      <td>0</td>\n",
       "      <td>None</td>\n",
       "      <td>1</td>\n",
       "      <td>0</td>\n",
       "      <td>0</td>\n",
       "      <td>1</td>\n",
       "      <td>5</td>\n",
       "      <td>39</td>\n",
       "      <td>0</td>\n",
       "    </tr>\n",
       "    <tr>\n",
       "      <td>2</td>\n",
       "      <td>0014M00001jqdJqQAI</td>\n",
       "      <td>2019-10-16</td>\n",
       "      <td>Northern America</td>\n",
       "      <td>US</td>\n",
       "      <td>major_city</td>\n",
       "      <td>350.0</td>\n",
       "      <td>Enterprise</td>\n",
       "      <td>Good Fit</td>\n",
       "      <td>Internet Software &amp; Services</td>\n",
       "      <td>Internet Software &amp; Services</td>\n",
       "      <td>...</td>\n",
       "      <td>0</td>\n",
       "      <td>0</td>\n",
       "      <td>100000000.00</td>\n",
       "      <td>0</td>\n",
       "      <td>0</td>\n",
       "      <td>0</td>\n",
       "      <td>1</td>\n",
       "      <td>1</td>\n",
       "      <td>4</td>\n",
       "      <td>0</td>\n",
       "    </tr>\n",
       "    <tr>\n",
       "      <td>3</td>\n",
       "      <td>0016100000WjovfAAB</td>\n",
       "      <td>2019-07-23</td>\n",
       "      <td>Northern America</td>\n",
       "      <td>CA</td>\n",
       "      <td>Other</td>\n",
       "      <td>225000.0</td>\n",
       "      <td>Enterprise</td>\n",
       "      <td>MoFu</td>\n",
       "      <td>Diversified Consumer Services</td>\n",
       "      <td>Specialized Consumer Services</td>\n",
       "      <td>...</td>\n",
       "      <td>0</td>\n",
       "      <td>0</td>\n",
       "      <td>1000000000.00</td>\n",
       "      <td>0</td>\n",
       "      <td>0</td>\n",
       "      <td>0</td>\n",
       "      <td>1</td>\n",
       "      <td>6</td>\n",
       "      <td>11</td>\n",
       "      <td>0</td>\n",
       "    </tr>\n",
       "    <tr>\n",
       "      <td>4</td>\n",
       "      <td>0016100000WjpgrAAB</td>\n",
       "      <td>2019-09-25</td>\n",
       "      <td>Northern America</td>\n",
       "      <td>US</td>\n",
       "      <td>major_city</td>\n",
       "      <td>NaN</td>\n",
       "      <td>Small Business</td>\n",
       "      <td>Inbound</td>\n",
       "      <td>Internet Software &amp; Services</td>\n",
       "      <td>Internet Software &amp; Services</td>\n",
       "      <td>...</td>\n",
       "      <td>0</td>\n",
       "      <td>0</td>\n",
       "      <td>10000000.00</td>\n",
       "      <td>1</td>\n",
       "      <td>0</td>\n",
       "      <td>0</td>\n",
       "      <td>1</td>\n",
       "      <td>5</td>\n",
       "      <td>26</td>\n",
       "      <td>0</td>\n",
       "    </tr>\n",
       "  </tbody>\n",
       "</table>\n",
       "<p>5 rows × 29 columns</p>\n",
       "</div>"
      ],
      "text/plain": [
       "                   id   mql_date            region billing_country  \\\n",
       "0  0016100000WjoJdAAJ 2019-10-11  Northern America              US   \n",
       "1  0016100000WjoZAAAZ 2019-08-21  Northern America              US   \n",
       "2  0014M00001jqdJqQAI 2019-10-16  Northern America              US   \n",
       "3  0016100000WjovfAAB 2019-07-23  Northern America              CA   \n",
       "4  0016100000WjpgrAAB 2019-09-25  Northern America              US   \n",
       "\n",
       "         city  numberofemployees      gtm_segment__c abm_group__c  \\\n",
       "0       Other              150.0  Midsized Companies      Inbound   \n",
       "1       Other               57.0  Midsized Companies      Inbound   \n",
       "2  major_city              350.0          Enterprise     Good Fit   \n",
       "3       Other           225000.0          Enterprise         MoFu   \n",
       "4  major_city                NaN      Small Business      Inbound   \n",
       "\n",
       "                        industry                sub_industry__c  ... hiring  \\\n",
       "0  Diversified Consumer Services  Specialized Consumer Services  ...      0   \n",
       "1                          Media                     Publishing  ...      0   \n",
       "2   Internet Software & Services   Internet Software & Services  ...      0   \n",
       "3  Diversified Consumer Services  Specialized Consumer Services  ...      0   \n",
       "4   Internet Software & Services   Internet Software & Services  ...      0   \n",
       "\n",
       "  new_manager  annualrevenue  has_at_least_one_non_company_email  \\\n",
       "0           0    10000000.00                                   1   \n",
       "1           0           None                                   1   \n",
       "2           0   100000000.00                                   0   \n",
       "3           0  1000000000.00                                   0   \n",
       "4           0    10000000.00                                   1   \n",
       "\n",
       "   has_atl_contact  num_of_atl_contacts  has_btl_contact  num_of_btl_contacts  \\\n",
       "0                0                    0                1                   15   \n",
       "1                0                    0                1                    5   \n",
       "2                0                    0                1                    1   \n",
       "3                0                    0                1                    6   \n",
       "4                0                    0                1                    5   \n",
       "\n",
       "   num_contacts  sql  \n",
       "0            59    0  \n",
       "1            39    0  \n",
       "2             4    0  \n",
       "3            11    0  \n",
       "4            26    0  \n",
       "\n",
       "[5 rows x 29 columns]"
      ]
     },
     "execution_count": 7,
     "metadata": {},
     "output_type": "execute_result"
    }
   ],
   "source": [
    "# Save as pandas dataframe and display first 5 rows\n",
    "data = pd.DataFrame(redshift.get_records(sql=sql, cursor=cursor))\n",
    "data.head()"
   ]
  },
  {
   "cell_type": "markdown",
   "metadata": {},
   "source": [
    "## Drop irrelevant columns & Encode categorical features"
   ]
  },
  {
   "cell_type": "code",
   "execution_count": 8,
   "metadata": {},
   "outputs": [
    {
     "name": "stdout",
     "output_type": "stream",
     "text": [
      "(44702, 25)\n",
      "(44702, 585)\n"
     ]
    }
   ],
   "source": [
    "# Drop the \"id\", \"mql_date\", \"numberofemployees\", sub_industry__c\" columns\n",
    "df_mod = data.drop(columns=([\"id\",\"mql_date\", \"numberofemployees\", \"sub_industry__c\"]),axis = 1)\n",
    "print(df_mod.shape)\n",
    "df_mod['annualrevenue'] = df_mod['annualrevenue'].astype(float)\n",
    "\n",
    "# Encode categorical features\n",
    "categorical_features = list(df_mod.select_dtypes(include=object).columns)\n",
    "df_enc = pd.get_dummies(df_mod, columns = categorical_features)\n",
    "print(df_enc.shape)\n",
    "\n",
    "df_enc = df_enc.dropna().drop_duplicates()\n",
    "\n",
    "# Replace special characters in df_enc\n",
    "df_enc.columns = df_enc.columns.str.replace('[^A-Za-z0-9]+', '_')"
   ]
  },
  {
   "cell_type": "markdown",
   "metadata": {},
   "source": [
    "## Split the dataset in Train & Test"
   ]
  },
  {
   "cell_type": "code",
   "execution_count": 9,
   "metadata": {},
   "outputs": [],
   "source": [
    "# Split in train and test\n",
    "from sklearn.model_selection import train_test_split\n",
    "y = df_enc['sql']\n",
    "X = df_enc\n",
    "\n",
    "X_train, X_test_unk, y_train, y_test_unk = train_test_split(X.drop('sql', axis=1), y,\n",
    "                                                            test_size=0.2, random_state=27,\n",
    "                                                            stratify = y)"
   ]
  },
  {
   "cell_type": "markdown",
   "metadata": {},
   "source": [
    "## Undersample Train dataset"
   ]
  },
  {
   "cell_type": "code",
   "execution_count": 10,
   "metadata": {},
   "outputs": [],
   "source": [
    "# Create Train dataset by Concatenating [X_train, y_train]\n",
    "df_train = pd.concat([X_train, y_train], axis = 1)\n",
    "# Random shuffle\n",
    "df_train = df_train.sample(frac=1)\n",
    "\n",
    "sqls = df_train.sql.sum()\n",
    "\n",
    "# Undersampling\n",
    "sql_df = df_train.loc[df_train[\"sql\"] == 1]\n",
    "non_sql_df = df_train.loc[df_train[\"sql\"] == 0][:10*sqls]\n",
    "\n",
    "# Concat to create dataset\n",
    "normal_distributed_df = pd.concat([sql_df, non_sql_df])\n",
    "\n",
    "# Shuffle dataframe rows\n",
    "new_df = normal_distributed_df.sample(frac=1, random_state=42)\n",
    "\n",
    "\n",
    "X_train, X_test_val, y_train, y_test_val = train_test_split(new_df.drop('sql', axis=1),\n",
    "                                                            new_df.sql, \n",
    "                                                            test_size=0.2, \n",
    "                                                            random_state=27, \n",
    "                                                            stratify = new_df.sql)"
   ]
  },
  {
   "cell_type": "markdown",
   "metadata": {},
   "source": [
    "## LightGBM"
   ]
  },
  {
   "cell_type": "code",
   "execution_count": 11,
   "metadata": {},
   "outputs": [
    {
     "name": "stdout",
     "output_type": "stream",
     "text": [
      "AUC: 0.8222091263605147\n",
      "F1 Score: 0.3526011560693642\n",
      "Confusion Matrix: [[626 202]\n",
      " [ 22  61]]\n"
     ]
    }
   ],
   "source": [
    "# LightGBM\n",
    "import lightgbm\n",
    "train_set = lightgbm.Dataset(X_train, label=y_train, params={'verbose': -1})\n",
    "\n",
    "train_params = {\n",
    "    'objective': 'binary',\n",
    "    'num_leaves': 100,\n",
    "    'random_seed': 3333,\n",
    "    'learning_rate': 0.005,\n",
    "    'boosting_type': 'gbdt',\n",
    "    'verbose': -1\n",
    "}\n",
    "\n",
    "from lightgbm import LGBMClassifier\n",
    "clf = LGBMClassifier(**train_params)\n",
    "clf.fit(X_train, y_train.values.ravel())\n",
    "\n",
    "\n",
    "import sklearn.metrics\n",
    "fpr, tpr, thresholds = sklearn.metrics.roc_curve(y_test_val, clf.predict_proba(X_test_val)[:,1])\n",
    "y_pred = clf.predict_proba(X_test_val)[:,1]\n",
    "y_pred_binary = [1 if y>0.1 else 0 for y in y_pred]\n",
    "print(\"AUC:\", sklearn.metrics.auc(fpr, tpr))\n",
    "print(\"F1 Score:\", sklearn.metrics.f1_score(y_test_val, y_pred_binary))\n",
    "print(\"Confusion Matrix:\", sklearn.metrics.confusion_matrix(y_test_val, y_pred_binary))"
   ]
  },
  {
   "cell_type": "markdown",
   "metadata": {},
   "source": [
    "### Feature importance"
   ]
  },
  {
   "cell_type": "code",
   "execution_count": 12,
   "metadata": {},
   "outputs": [
    {
     "data": {
      "image/png": "[encoded data removed]",
      "text/plain": [
       "<Figure size 864x720 with 1 Axes>"
      ]
     },
     "metadata": {
      "needs_background": "light"
     },
     "output_type": "display_data"
    }
   ],
   "source": [
    "lightgbm.plot_importance(\n",
    "   clf,\n",
    "   figsize=(12, 10),\n",
    "   max_num_features=20\n",
    ");"
   ]
  },
  {
   "cell_type": "code",
   "execution_count": 135,
   "metadata": {},
   "outputs": [
    {
     "data": {
      "text/plain": [
       "(883,)"
      ]
     },
     "execution_count": 135,
     "metadata": {},
     "output_type": "execute_result"
    }
   ],
   "source": [
    "y_test_val.shape"
   ]
  },
  {
   "cell_type": "code",
   "execution_count": 136,
   "metadata": {},
   "outputs": [
    {
     "data": {
      "text/plain": [
       "763"
      ]
     },
     "execution_count": 136,
     "metadata": {},
     "output_type": "execute_result"
    }
   ],
   "source": [
    "sum(1-y_pred>0.8)"
   ]
  },
  {
   "cell_type": "code",
   "execution_count": 140,
   "metadata": {},
   "outputs": [
    {
     "data": {
      "text/plain": [
       "226"
      ]
     },
     "execution_count": 140,
     "metadata": {},
     "output_type": "execute_result"
    }
   ],
   "source": [
    "#max(y_pred)\n",
    "883- sum(1-y_pred>0.90)"
   ]
  },
  {
   "cell_type": "markdown",
   "metadata": {},
   "source": [
    "### Test in the unknown dataset"
   ]
  },
  {
   "cell_type": "code",
   "execution_count": 142,
   "metadata": {},
   "outputs": [
    {
     "name": "stdout",
     "output_type": "stream",
     "text": [
      "AUC: 0.8126363396276244\n",
      "F1 Score: 0.08060747663551401\n",
      "Confusion Matrix: [[6030 1543]\n",
      " [  31   69]]\n"
     ]
    }
   ],
   "source": [
    "import sklearn.metrics\n",
    "fpr, tpr, thresholds = sklearn.metrics.roc_curve(y_test_unk, clf.predict_proba(X_test_unk)[:,1])\n",
    "y_pred = clf.predict_proba(X_test_unk)[:,1]\n",
    "y_pred_binary = [1 if y>0.1 else 0 for y in y_pred]\n",
    "print(\"AUC:\", sklearn.metrics.auc(fpr, tpr))\n",
    "print(\"F1 Score:\", sklearn.metrics.f1_score(y_test_unk, y_pred_binary))\n",
    "print(\"Confusion Matrix:n\\\", sklearn.metrics.confusion_matrix(y_test_unk, y_pred_binary))"
   ]
  },
  {
   "cell_type": "markdown",
   "metadata": {},
   "source": [
    "### Cross-validation"
   ]
  },
  {
   "cell_type": "code",
   "execution_count": 145,
   "metadata": {},
   "outputs": [
    {
     "name": "stdout",
     "output_type": "stream",
     "text": [
      "[20]\tcv_agg's auc: 0.793127 + 0.0233545\n",
      "[40]\tcv_agg's auc: 0.793214 + 0.0263061\n",
      "[60]\tcv_agg's auc: 0.799741 + 0.022779\n",
      "[80]\tcv_agg's auc: 0.804519 + 0.0234537\n",
      "[100]\tcv_agg's auc: 0.806729 + 0.0246226\n",
      "[120]\tcv_agg's auc: 0.805825 + 0.0246613\n",
      "Current parameters:\n",
      " {'objective': 'binary', 'num_leaves': 1000, 'random_seed': 3333, 'verbose': -1, 'learning_rate': 0.02}\n",
      "Best CV-AUC score: 0.806813615676331\n"
     ]
    }
   ],
   "source": [
    "train_params = {\n",
    "    'objective': 'binary',\n",
    "    'num_leaves': 1000,\n",
    "    'random_seed': 3333,\n",
    "    'learning_rate': 0.02,\n",
    "    'verbose': -1\n",
    "}\n",
    "\n",
    "\n",
    "# Cross-validation\n",
    "N_FOLDS = 10\n",
    "MAX_BOOST_ROUNDS = 700\n",
    "train_params = {\n",
    "    'objective': 'binary',\n",
    "    'num_leaves': 1000,\n",
    "    'random_seed': 3333,\n",
    "    'verbose': -1,\n",
    "    'learning_rate': 0.02,\n",
    "}\n",
    "d_train = lightgbm.Dataset(X_train, label=y_train, params={'verbose': -1})\n",
    "\n",
    "cv_results = lightgbm.cv(train_params, d_train, num_boost_round=MAX_BOOST_ROUNDS, nfold=N_FOLDS, \n",
    "                    verbose_eval=20, early_stopping_rounds=40, metrics=['auc'],\n",
    "                        stratified=True)\n",
    "\n",
    "print('Current parameters:\\n', train_params)\n",
    "# print('\\nBest num_boost_round:', len(cv_results['auc-mean']))\n",
    "print('Best CV-AUC score:', cv_results['auc-mean'][-1])\n",
    "# print('Best CV-AUC score:', cv_results['accuracy-mean'][-1])"
   ]
  },
  {
   "cell_type": "markdown",
   "metadata": {},
   "source": [
    "### Grid Search"
   ]
  },
  {
   "cell_type": "code",
   "execution_count": 149,
   "metadata": {},
   "outputs": [
    {
     "name": "stdout",
     "output_type": "stream",
     "text": [
      "Fitting 5 folds for each of 270 candidates, totalling 1350 fits\n"
     ]
    },
    {
     "name": "stderr",
     "output_type": "stream",
     "text": [
      "[Parallel(n_jobs=-1)]: Using backend LokyBackend with 4 concurrent workers.\n",
      "[Parallel(n_jobs=-1)]: Done  24 tasks      | elapsed:   16.5s\n",
      "[Parallel(n_jobs=-1)]: Done 120 tasks      | elapsed:  1.2min\n",
      "[Parallel(n_jobs=-1)]: Done 280 tasks      | elapsed:  3.4min\n",
      "[Parallel(n_jobs=-1)]: Done 504 tasks      | elapsed:  5.9min\n",
      "[Parallel(n_jobs=-1)]: Done 792 tasks      | elapsed:  9.5min\n",
      "[Parallel(n_jobs=-1)]: Done 1144 tasks      | elapsed: 13.4min\n",
      "[Parallel(n_jobs=-1)]: Done 1350 out of 1350 | elapsed: 15.9min finished\n"
     ]
    },
    {
     "name": "stdout",
     "output_type": "stream",
     "text": [
      "{'boosting_type': 'gbdt', 'learning_rate': 0.005, 'n_estimators': 100, 'num_leaves': 8, 'objective': 'binary', 'random_state': 3333}\n",
      "1.0\n",
      "[BestParams]-AUC Score on test: 0.8478907222914073\n"
     ]
    }
   ],
   "source": [
    "from sklearn.model_selection import GridSearchCV\n",
    "gridParams = {\n",
    "    'learning_rate': [0.005, 0.01, 0.02, 0.05, 0.1],\n",
    "    'n_estimators': range(100, 1000, 100),\n",
    "    'num_leaves': [8, 16, 20, 24, 28, 32],\n",
    "    'boosting_type' : ['gbdt'],\n",
    "    'objective' : ['binary'],\n",
    "    'random_state' : [3333],\n",
    "}\n",
    "\n",
    "clf = LGBMClassifier()\n",
    "# Create the grid\n",
    "grid = GridSearchCV(clf, gridParams,\n",
    "                    verbose=3,\n",
    "                    cv=5,\n",
    "                    n_jobs=-1,\n",
    "                    scoring='roc_auc'\n",
    "                    )\n",
    "# Run the grid\n",
    "grid.fit(X, y)\n",
    "\n",
    "# Print the best parameters found\n",
    "print(grid.best_params_)\n",
    "print(grid.best_score_)\n",
    "\n",
    "clf = LGBMClassifier(**grid.best_params_)\n",
    "clf.fit(X_train, y_train)\n",
    "\n",
    "\n",
    "fpr, tpr, thresholds = sklearn.metrics.roc_curve(y_test_val, clf.predict_proba(X_test_val)[:,1])\n",
    "print('[BestParams]-AUC Score on test: {}'.format(sklearn.metrics.auc(fpr, tpr)))\n",
    "\n",
    "# #current['prediction'] = clf.predict(current)\n",
    "# fpr, tpr, thresholds = sklearn.metrics.roc_curve(target_current, clf.predict(current))\n",
    "# print('[BestParams]-AUC Score on test: {}'.format(sklearn.metrics.auc(fpr, tpr)))"
   ]
  }
 ],
 "metadata": {
  "kernelspec": {
   "display_name": "Python 3",
   "language": "python",
   "name": "python3"
  },
  "language_info": {
   "codemirror_mode": {
    "name": "ipython",
    "version": 3
   },
   "file_extension": ".py",
   "mimetype": "text/x-python",
   "name": "python",
   "nbconvert_exporter": "python",
   "pygments_lexer": "ipython3",
   "version": "3.7.3"
  }
 },
 "nbformat": 4,
 "nbformat_minor": 2
}
