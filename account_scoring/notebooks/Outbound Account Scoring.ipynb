{
 "cells": [
  {
   "cell_type": "code",
   "execution_count": 1,
   "metadata": {},
   "outputs": [],
   "source": [
    "import pandas as pd\n",
    "import matplotlib.pyplot as plt\n",
    "\n",
    "%matplotlib inline"
   ]
  },
  {
   "cell_type": "markdown",
   "metadata": {},
   "source": [
    "## Dataset"
   ]
  },
  {
   "cell_type": "code",
   "execution_count": 2,
   "metadata": {},
   "outputs": [],
   "source": [
    "data = pd.read_csv(\"data/account_scoring_data.csv\")"
   ]
  },
  {
   "cell_type": "code",
   "execution_count": 6,
   "metadata": {},
   "outputs": [
    {
     "data": {
      "text/html": [
       "<div>\n",
       "<style scoped>\n",
       "    .dataframe tbody tr th:only-of-type {\n",
       "        vertical-align: middle;\n",
       "    }\n",
       "\n",
       "    .dataframe tbody tr th {\n",
       "        vertical-align: top;\n",
       "    }\n",
       "\n",
       "    .dataframe thead th {\n",
       "        text-align: right;\n",
       "    }\n",
       "</style>\n",
       "<table border=\"1\" class=\"dataframe\">\n",
       "  <thead>\n",
       "    <tr style=\"text-align: right;\">\n",
       "      <th></th>\n",
       "      <th>id</th>\n",
       "      <th>mql_date</th>\n",
       "      <th>region</th>\n",
       "      <th>billing_country</th>\n",
       "      <th>city</th>\n",
       "      <th>gtm_segment__c</th>\n",
       "      <th>abm_group__c</th>\n",
       "      <th>industry</th>\n",
       "      <th>icp_tier</th>\n",
       "      <th>persona__c</th>\n",
       "      <th>...</th>\n",
       "      <th>hiring</th>\n",
       "      <th>new_manager</th>\n",
       "      <th>annualrevenue</th>\n",
       "      <th>has_at_least_one_non_company_email</th>\n",
       "      <th>has_atl_contact</th>\n",
       "      <th>num_of_atl_contacts</th>\n",
       "      <th>has_btl_contact</th>\n",
       "      <th>num_of_btl_contacts</th>\n",
       "      <th>num_contacts</th>\n",
       "      <th>sql</th>\n",
       "    </tr>\n",
       "  </thead>\n",
       "  <tbody>\n",
       "    <tr>\n",
       "      <td>0</td>\n",
       "      <td>0016100000WjpgrAAB</td>\n",
       "      <td>2019-09-25 00:00:00</td>\n",
       "      <td>Northern America</td>\n",
       "      <td>US</td>\n",
       "      <td>major_city</td>\n",
       "      <td>Small Business</td>\n",
       "      <td>Inbound</td>\n",
       "      <td>Internet Software &amp; Services</td>\n",
       "      <td>Tier 2</td>\n",
       "      <td>NaN</td>\n",
       "      <td>...</td>\n",
       "      <td>0</td>\n",
       "      <td>0</td>\n",
       "      <td>1.000000e+07</td>\n",
       "      <td>1</td>\n",
       "      <td>0</td>\n",
       "      <td>0</td>\n",
       "      <td>1</td>\n",
       "      <td>5</td>\n",
       "      <td>26</td>\n",
       "      <td>0</td>\n",
       "    </tr>\n",
       "    <tr>\n",
       "      <td>1</td>\n",
       "      <td>0016100000WjoJdAAJ</td>\n",
       "      <td>2019-10-11 00:00:00</td>\n",
       "      <td>Northern America</td>\n",
       "      <td>US</td>\n",
       "      <td>Other</td>\n",
       "      <td>Midsized Companies</td>\n",
       "      <td>Inbound</td>\n",
       "      <td>Diversified Consumer Services</td>\n",
       "      <td>Tier 1</td>\n",
       "      <td>NaN</td>\n",
       "      <td>...</td>\n",
       "      <td>0</td>\n",
       "      <td>0</td>\n",
       "      <td>1.000000e+07</td>\n",
       "      <td>1</td>\n",
       "      <td>0</td>\n",
       "      <td>0</td>\n",
       "      <td>1</td>\n",
       "      <td>15</td>\n",
       "      <td>59</td>\n",
       "      <td>0</td>\n",
       "    </tr>\n",
       "    <tr>\n",
       "      <td>2</td>\n",
       "      <td>0016100000WjovfAAB</td>\n",
       "      <td>2019-07-23 00:00:00</td>\n",
       "      <td>Northern America</td>\n",
       "      <td>CA</td>\n",
       "      <td>Other</td>\n",
       "      <td>Enterprise</td>\n",
       "      <td>MoFu</td>\n",
       "      <td>Diversified Consumer Services</td>\n",
       "      <td>Tier 1</td>\n",
       "      <td>Small Company</td>\n",
       "      <td>...</td>\n",
       "      <td>0</td>\n",
       "      <td>0</td>\n",
       "      <td>1.000000e+09</td>\n",
       "      <td>0</td>\n",
       "      <td>0</td>\n",
       "      <td>0</td>\n",
       "      <td>1</td>\n",
       "      <td>6</td>\n",
       "      <td>11</td>\n",
       "      <td>0</td>\n",
       "    </tr>\n",
       "    <tr>\n",
       "      <td>3</td>\n",
       "      <td>0014M00001jpgMnQAI</td>\n",
       "      <td>2019-09-06 00:00:00</td>\n",
       "      <td>Northern America</td>\n",
       "      <td>US</td>\n",
       "      <td>Other</td>\n",
       "      <td>Enterprise</td>\n",
       "      <td>MoFu</td>\n",
       "      <td>Automotive</td>\n",
       "      <td>Other</td>\n",
       "      <td>NaN</td>\n",
       "      <td>...</td>\n",
       "      <td>0</td>\n",
       "      <td>0</td>\n",
       "      <td>1.000000e+08</td>\n",
       "      <td>0</td>\n",
       "      <td>0</td>\n",
       "      <td>0</td>\n",
       "      <td>0</td>\n",
       "      <td>0</td>\n",
       "      <td>7</td>\n",
       "      <td>0</td>\n",
       "    </tr>\n",
       "    <tr>\n",
       "      <td>4</td>\n",
       "      <td>0016100000WjoEaAAJ</td>\n",
       "      <td>2019-04-03 00:00:00</td>\n",
       "      <td>Australia and New Zealand</td>\n",
       "      <td>NZ</td>\n",
       "      <td>Other</td>\n",
       "      <td>Small Business</td>\n",
       "      <td>Inbound</td>\n",
       "      <td>Internet Software &amp; Services</td>\n",
       "      <td>Tier 2</td>\n",
       "      <td>NaN</td>\n",
       "      <td>...</td>\n",
       "      <td>0</td>\n",
       "      <td>0</td>\n",
       "      <td>NaN</td>\n",
       "      <td>1</td>\n",
       "      <td>0</td>\n",
       "      <td>0</td>\n",
       "      <td>1</td>\n",
       "      <td>5</td>\n",
       "      <td>32</td>\n",
       "      <td>0</td>\n",
       "    </tr>\n",
       "  </tbody>\n",
       "</table>\n",
       "<p>5 rows × 27 columns</p>\n",
       "</div>"
      ],
      "text/plain": [
       "                   id             mql_date                     region  \\\n",
       "0  0016100000WjpgrAAB  2019-09-25 00:00:00           Northern America   \n",
       "1  0016100000WjoJdAAJ  2019-10-11 00:00:00           Northern America   \n",
       "2  0016100000WjovfAAB  2019-07-23 00:00:00           Northern America   \n",
       "3  0014M00001jpgMnQAI  2019-09-06 00:00:00           Northern America   \n",
       "4  0016100000WjoEaAAJ  2019-04-03 00:00:00  Australia and New Zealand   \n",
       "\n",
       "  billing_country        city      gtm_segment__c abm_group__c  \\\n",
       "0              US  major_city      Small Business      Inbound   \n",
       "1              US       Other  Midsized Companies      Inbound   \n",
       "2              CA       Other          Enterprise         MoFu   \n",
       "3              US       Other          Enterprise         MoFu   \n",
       "4              NZ       Other      Small Business      Inbound   \n",
       "\n",
       "                        industry icp_tier     persona__c  ... hiring  \\\n",
       "0   Internet Software & Services   Tier 2            NaN  ...      0   \n",
       "1  Diversified Consumer Services   Tier 1            NaN  ...      0   \n",
       "2  Diversified Consumer Services   Tier 1  Small Company  ...      0   \n",
       "3                     Automotive    Other            NaN  ...      0   \n",
       "4   Internet Software & Services   Tier 2            NaN  ...      0   \n",
       "\n",
       "   new_manager  annualrevenue  has_at_least_one_non_company_email  \\\n",
       "0            0   1.000000e+07                                   1   \n",
       "1            0   1.000000e+07                                   1   \n",
       "2            0   1.000000e+09                                   0   \n",
       "3            0   1.000000e+08                                   0   \n",
       "4            0            NaN                                   1   \n",
       "\n",
       "   has_atl_contact  num_of_atl_contacts  has_btl_contact  num_of_btl_contacts  \\\n",
       "0                0                    0                1                    5   \n",
       "1                0                    0                1                   15   \n",
       "2                0                    0                1                    6   \n",
       "3                0                    0                0                    0   \n",
       "4                0                    0                1                    5   \n",
       "\n",
       "   num_contacts  sql  \n",
       "0            26    0  \n",
       "1            59    0  \n",
       "2            11    0  \n",
       "3             7    0  \n",
       "4            32    0  \n",
       "\n",
       "[5 rows x 27 columns]"
      ]
     },
     "execution_count": 6,
     "metadata": {},
     "output_type": "execute_result"
    }
   ],
   "source": [
    "data.head()"
   ]
  },
  {
   "cell_type": "markdown",
   "metadata": {},
   "source": [
    "## Drop irrelevant columns & Encode categorical features"
   ]
  },
  {
   "cell_type": "code",
   "execution_count": 7,
   "metadata": {},
   "outputs": [
    {
     "name": "stdout",
     "output_type": "stream",
     "text": [
      "(44702, 25)\n",
      "(44702, 584)\n"
     ]
    }
   ],
   "source": [
    "# Drop the \"id\", \"mql_date\" columns\n",
    "df_mod = data.drop(columns=([\"id\",\"mql_date\"]),axis = 1)\n",
    "print(df_mod.shape)\n",
    "df_mod['annualrevenue'] = df_mod['annualrevenue'].astype(float)\n",
    "\n",
    "# Encode categorical features\n",
    "categorical_features = list(df_mod.select_dtypes(include=object).columns)\n",
    "df_enc = pd.get_dummies(df_mod, columns = categorical_features)\n",
    "print(df_enc.shape)\n",
    "\n",
    "df_enc = df_enc.dropna().drop_duplicates()\n",
    "\n",
    "# Replace special characters in df_enc\n",
    "df_enc.columns = df_enc.columns.str.replace('[^A-Za-z0-9]+', '_')"
   ]
  },
  {
   "cell_type": "markdown",
   "metadata": {},
   "source": [
    "## Split the dataset in Train & Test"
   ]
  },
  {
   "cell_type": "code",
   "execution_count": 8,
   "metadata": {},
   "outputs": [],
   "source": [
    "# Split in train and test\n",
    "from sklearn.model_selection import train_test_split\n",
    "y = df_enc['sql']\n",
    "X = df_enc\n",
    "\n",
    "X_train, X_test_unk, y_train, y_test_unk = train_test_split(X.drop('sql', axis=1), y,\n",
    "                                                            test_size=0.2, random_state=27,\n",
    "                                                            stratify = y)"
   ]
  },
  {
   "cell_type": "markdown",
   "metadata": {},
   "source": [
    "## Undersample Train dataset"
   ]
  },
  {
   "cell_type": "code",
   "execution_count": 9,
   "metadata": {},
   "outputs": [],
   "source": [
    "# Create Train dataset by Concatenating [X_train, y_train]\n",
    "df_train = pd.concat([X_train, y_train], axis = 1)\n",
    "# Random shuffle\n",
    "df_train = df_train.sample(frac=1)\n",
    "\n",
    "sqls = df_train.sql.sum()\n",
    "\n",
    "# Undersampling\n",
    "sql_df = df_train.loc[df_train[\"sql\"] == 1]\n",
    "non_sql_df = df_train.loc[df_train[\"sql\"] == 0][:10*sqls]\n",
    "\n",
    "# Concat to create dataset\n",
    "normal_distributed_df = pd.concat([sql_df, non_sql_df])\n",
    "\n",
    "# Shuffle dataframe rows\n",
    "new_df = normal_distributed_df.sample(frac=1, random_state=42)\n",
    "\n",
    "\n",
    "X_train, X_test_val, y_train, y_test_val = train_test_split(new_df.drop('sql', axis=1),\n",
    "                                                            new_df.sql, \n",
    "                                                            test_size=0.2, \n",
    "                                                            random_state=27, \n",
    "                                                            stratify = new_df.sql)"
   ]
  },
  {
   "cell_type": "markdown",
   "metadata": {},
   "source": [
    "## LightGBM"
   ]
  },
  {
   "cell_type": "code",
   "execution_count": 13,
   "metadata": {},
   "outputs": [
    {
     "name": "stdout",
     "output_type": "stream",
     "text": [
      "AUC: 0.8109321343344393\n",
      "F1 Score: 0.3815384615384615\n",
      "Confusion Matrix: [[648 180]\n",
      " [ 21  62]]\n"
     ]
    }
   ],
   "source": [
    "# LightGBM\n",
    "import lightgbm\n",
    "train_set = lightgbm.Dataset(X_train, label=y_train, params={'verbose': -1})\n",
    "\n",
    "train_params = {\n",
    "    'objective': 'binary',\n",
    "    'num_leaves': 100,\n",
    "    'random_seed': 3333,\n",
    "    'learning_rate': 0.005,\n",
    "    'boosting_type': 'gbdt',\n",
    "    'verbose': -1\n",
    "}\n",
    "\n",
    "from lightgbm import LGBMClassifier\n",
    "clf = LGBMClassifier(**train_params)\n",
    "clf.fit(X_train, y_train.values.ravel())\n",
    "\n",
    "\n",
    "import sklearn.metrics\n",
    "fpr, tpr, thresholds = sklearn.metrics.roc_curve(y_test_val, clf.predict_proba(X_test_val)[:,1])\n",
    "y_pred = clf.predict_proba(X_test_val)[:,1]\n",
    "y_pred_binary = [1 if y>0.1 else 0 for y in y_pred]\n",
    "print(\"AUC:\", sklearn.metrics.auc(fpr, tpr))\n",
    "print(\"F1 Score:\", sklearn.metrics.f1_score(y_test_val, y_pred_binary))\n",
    "print(\"Confusion Matrix:\", sklearn.metrics.confusion_matrix(y_test_val, y_pred_binary))"
   ]
  },
  {
   "cell_type": "markdown",
   "metadata": {},
   "source": [
    "### Feature importance"
   ]
  },
  {
   "cell_type": "code",
   "execution_count": 14,
   "metadata": {},
   "outputs": [
    {
     "data": {
      "image/png": "[encoded data removed]",
      "text/plain": [
       "<Figure size 864x720 with 1 Axes>"
      ]
     },
     "metadata": {
      "needs_background": "light"
     },
     "output_type": "display_data"
    }
   ],
   "source": [
    "lightgbm.plot_importance(\n",
    "   clf,\n",
    "   figsize=(12, 10),\n",
    "   max_num_features=20\n",
    ");"
   ]
  },
  {
   "cell_type": "markdown",
   "metadata": {},
   "source": [
    "### Test in the unknown dataset"
   ]
  },
  {
   "cell_type": "code",
   "execution_count": 16,
   "metadata": {},
   "outputs": [
    {
     "name": "stdout",
     "output_type": "stream",
     "text": [
      "AUC: 0.8285058660400068\n",
      "F1 Score: 0.08351409978308025\n",
      "Confusion Matrix: [[5975 1664]\n",
      " [  26   77]]\n"
     ]
    }
   ],
   "source": [
    "import sklearn.metrics\n",
    "fpr, tpr, thresholds = sklearn.metrics.roc_curve(y_test_unk, clf.predict_proba(X_test_unk)[:,1])\n",
    "y_pred = clf.predict_proba(X_test_unk)[:,1]\n",
    "y_pred_binary = [1 if y>0.1 else 0 for y in y_pred]\n",
    "print(\"AUC:\", sklearn.metrics.auc(fpr, tpr))\n",
    "print(\"F1 Score:\", sklearn.metrics.f1_score(y_test_unk, y_pred_binary))\n",
    "print(\"Confusion Matrix:\", sklearn.metrics.confusion_matrix(y_test_unk, y_pred_binary))"
   ]
  },
  {
   "cell_type": "markdown",
   "metadata": {},
   "source": [
    "### Cross-validation"
   ]
  },
  {
   "cell_type": "code",
   "execution_count": 17,
   "metadata": {},
   "outputs": [
    {
     "name": "stdout",
     "output_type": "stream",
     "text": [
      "[20]\tcv_agg's auc: 0.795374 + 0.038447\n",
      "[40]\tcv_agg's auc: 0.789275 + 0.0328279\n",
      "[60]\tcv_agg's auc: 0.793959 + 0.0365351\n",
      "Current parameters:\n",
      " {'objective': 'binary', 'num_leaves': 1000, 'random_seed': 3333, 'verbose': -1, 'learning_rate': 0.02}\n",
      "Best CV-AUC score: 0.7961185088026468\n"
     ]
    }
   ],
   "source": [
    "train_params = {\n",
    "    'objective': 'binary',\n",
    "    'num_leaves': 1000,\n",
    "    'random_seed': 3333,\n",
    "    'learning_rate': 0.02,\n",
    "    'verbose': -1\n",
    "}\n",
    "\n",
    "\n",
    "# Cross-validation\n",
    "N_FOLDS = 10\n",
    "MAX_BOOST_ROUNDS = 700\n",
    "train_params = {\n",
    "    'objective': 'binary',\n",
    "    'num_leaves': 1000,\n",
    "    'random_seed': 3333,\n",
    "    'verbose': -1,\n",
    "    'learning_rate': 0.02,\n",
    "}\n",
    "d_train = lightgbm.Dataset(X_train, label=y_train, params={'verbose': -1})\n",
    "\n",
    "cv_results = lightgbm.cv(train_params, d_train, num_boost_round=MAX_BOOST_ROUNDS, nfold=N_FOLDS, \n",
    "                    verbose_eval=20, early_stopping_rounds=40, metrics=['auc'],\n",
    "                        stratified=True)\n",
    "\n",
    "print('Current parameters:\\n', train_params)\n",
    "# print('\\nBest num_boost_round:', len(cv_results['auc-mean']))\n",
    "print('Best CV-AUC score:', cv_results['auc-mean'][-1])\n",
    "# print('Best CV-AUC score:', cv_results['accuracy-mean'][-1])"
   ]
  },
  {
   "cell_type": "markdown",
   "metadata": {},
   "source": [
    "### Grid Search"
   ]
  },
  {
   "cell_type": "code",
   "execution_count": 149,
   "metadata": {},
   "outputs": [
    {
     "name": "stdout",
     "output_type": "stream",
     "text": [
      "Fitting 5 folds for each of 270 candidates, totalling 1350 fits\n"
     ]
    },
    {
     "name": "stderr",
     "output_type": "stream",
     "text": [
      "[Parallel(n_jobs=-1)]: Using backend LokyBackend with 4 concurrent workers.\n",
      "[Parallel(n_jobs=-1)]: Done  24 tasks      | elapsed:   16.5s\n",
      "[Parallel(n_jobs=-1)]: Done 120 tasks      | elapsed:  1.2min\n",
      "[Parallel(n_jobs=-1)]: Done 280 tasks      | elapsed:  3.4min\n",
      "[Parallel(n_jobs=-1)]: Done 504 tasks      | elapsed:  5.9min\n",
      "[Parallel(n_jobs=-1)]: Done 792 tasks      | elapsed:  9.5min\n",
      "[Parallel(n_jobs=-1)]: Done 1144 tasks      | elapsed: 13.4min\n",
      "[Parallel(n_jobs=-1)]: Done 1350 out of 1350 | elapsed: 15.9min finished\n"
     ]
    },
    {
     "name": "stdout",
     "output_type": "stream",
     "text": [
      "{'boosting_type': 'gbdt', 'learning_rate': 0.005, 'n_estimators': 100, 'num_leaves': 8, 'objective': 'binary', 'random_state': 3333}\n",
      "1.0\n",
      "[BestParams]-AUC Score on test: 0.8478907222914073\n"
     ]
    }
   ],
   "source": [
    "from sklearn.model_selection import GridSearchCV\n",
    "gridParams = {\n",
    "    'learning_rate': [0.005, 0.01, 0.02, 0.05, 0.1],\n",
    "    'n_estimators': range(100, 1000, 100),\n",
    "    'num_leaves': [8, 16, 20, 24, 28, 32],\n",
    "    'boosting_type' : ['gbdt'],\n",
    "    'objective' : ['binary'],\n",
    "    'random_state' : [3333],\n",
    "}\n",
    "\n",
    "clf = LGBMClassifier()\n",
    "# Create the grid\n",
    "grid = GridSearchCV(clf, gridParams,\n",
    "                    verbose=3,\n",
    "                    cv=5,\n",
    "                    n_jobs=-1,\n",
    "                    scoring='roc_auc'\n",
    "                    )\n",
    "# Run the grid\n",
    "grid.fit(X, y)\n",
    "\n",
    "# Print the best parameters found\n",
    "print(grid.best_params_)\n",
    "print(grid.best_score_)\n",
    "\n",
    "clf = LGBMClassifier(**grid.best_params_)\n",
    "clf.fit(X_train, y_train)\n",
    "\n",
    "\n",
    "fpr, tpr, thresholds = sklearn.metrics.roc_curve(y_test_val, clf.predict_proba(X_test_val)[:,1])\n",
    "print('[BestParams]-AUC Score on test: {}'.format(sklearn.metrics.auc(fpr, tpr)))\n",
    "\n",
    "# #current['prediction'] = clf.predict(current)\n",
    "# fpr, tpr, thresholds = sklearn.metrics.roc_curve(target_current, clf.predict(current))\n",
    "# print('[BestParams]-AUC Score on test: {}'.format(sklearn.metrics.auc(fpr, tpr)))"
   ]
  }
 ],
 "metadata": {
  "kernelspec": {
   "display_name": "Python 3",
   "language": "python",
   "name": "python3"
  },
  "language_info": {
   "codemirror_mode": {
    "name": "ipython",
    "version": 3
   },
   "file_extension": ".py",
   "mimetype": "text/x-python",
   "name": "python",
   "nbconvert_exporter": "python",
   "pygments_lexer": "ipython3",
   "version": "3.7.3"
  }
 },
 "nbformat": 4,
 "nbformat_minor": 2
}
